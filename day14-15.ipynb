{
 "cells": [
  {
   "cell_type": "code",
   "execution_count": 1,
   "metadata": {},
   "outputs": [
    {
     "name": "stdout",
     "output_type": "stream",
     "text": [
      "The Array is-\n",
      "[[[6.23042070e-307 4.67296746e-307 1.69121096e-306]\n",
      "  [1.69119330e-306 1.33511018e-306 1.33511969e-306]\n",
      "  [6.23037996e-307 6.23053954e-307 9.34609790e-307]]\n",
      "\n",
      " [[8.45593934e-307 9.34600963e-307 1.86921143e-306]\n",
      "  [6.23061763e-307 6.23060065e-307 8.45603441e-307]\n",
      "  [9.79111267e-307 1.11260144e-306 1.60219035e-306]]\n",
      "\n",
      " [[8.34448533e-308 1.33508761e-307 1.33511562e-306]\n",
      "  [8.90103560e-307 1.42410974e-306 1.00132228e-307]\n",
      "  [1.33511969e-306 2.18568966e-312 2.29179042e-312]]]\n",
      "The Shape of Array is-\n",
      "(3, 3, 3)\n"
     ]
    }
   ],
   "source": [
    "import numpy as np\n",
    "a=np.empty((3,3,3))#creates an random  array of order 3X3X3\n",
    "print(\"The Array is-\")\n",
    "print(a)\n",
    "print(\"The Shape of Array is-\")\n",
    "print(a.shape)"
   ]
  },
  {
   "cell_type": "markdown",
   "metadata": {},
   "source": [
    "# 2.Create a 5x5 matrix with values 1,2,3,4 just below the diagonal"
   ]
  },
  {
   "cell_type": "code",
   "execution_count": 3,
   "metadata": {},
   "outputs": [
    {
     "name": "stdout",
     "output_type": "stream",
     "text": [
      "Initial Matrix-\n",
      "[[0. 0. 0. 0.]\n",
      " [0. 0. 0. 0.]\n",
      " [0. 0. 0. 0.]\n",
      " [0. 0. 0. 0.]]\n",
      "Final Matrix-\n",
      "[[0. 0. 0. 0.]\n",
      " [1. 0. 0. 0.]\n",
      " [0. 2. 0. 0.]\n",
      " [0. 0. 3. 0.]]\n"
     ]
    }
   ],
   "source": [
    "b=np.zeros((4,4))\n",
    "print(\"Initial Matrix-\")\n",
    "print(b)\n",
    "for i in range(len(b)):\n",
    "    for j in range(len(b)):\n",
    "        if(i==j+1):\n",
    "            b[i][j]=i\n",
    "print(\"Final Matrix-\")\n",
    "print(b)"
   ]
  },
  {
   "cell_type": "markdown",
   "metadata": {},
   "source": [
    "# 3.Create a 8x8 matrix and fill it with a checkerboard pattern"
   ]
  },
  {
   "cell_type": "code",
   "execution_count": 4,
   "metadata": {},
   "outputs": [
    {
     "name": "stdout",
     "output_type": "stream",
     "text": [
      "Initial Matrix-\n",
      "[[0. 0. 0. 0. 0. 0. 0. 0.]\n",
      " [0. 0. 0. 0. 0. 0. 0. 0.]\n",
      " [0. 0. 0. 0. 0. 0. 0. 0.]\n",
      " [0. 0. 0. 0. 0. 0. 0. 0.]\n",
      " [0. 0. 0. 0. 0. 0. 0. 0.]\n",
      " [0. 0. 0. 0. 0. 0. 0. 0.]\n",
      " [0. 0. 0. 0. 0. 0. 0. 0.]\n",
      " [0. 0. 0. 0. 0. 0. 0. 0.]]\n",
      "Final Matrix-\n",
      "[[  0. 255.   0. 255.   0. 255.   0. 255.]\n",
      " [  0. 255.   0. 255.   0. 255.   0. 255.]\n",
      " [  0. 255.   0. 255.   0. 255.   0. 255.]\n",
      " [  0. 255.   0. 255.   0. 255.   0. 255.]\n",
      " [  0. 255.   0. 255.   0. 255.   0. 255.]\n",
      " [  0. 255.   0. 255.   0. 255.   0. 255.]\n",
      " [  0. 255.   0. 255.   0. 255.   0. 255.]\n",
      " [  0. 255.   0. 255.   0. 255.   0. 255.]]\n"
     ]
    }
   ],
   "source": [
    "c=np.zeros((8,8))#creates a zeros matrix of specified order \n",
    "print(\"Initial Matrix-\")\n",
    "print(c)\n",
    "for i in range(len(c)):\n",
    "    for j in range(len(c)):\n",
    "        if(j%2!=0):\n",
    "            c[i][j]=255\n",
    "print(\"Final Matrix-\")\n",
    "print(c)"
   ]
  },
  {
   "cell_type": "markdown",
   "metadata": {},
   "source": [
    "# 4. Normalize a 5x5 random matrix"
   ]
  },
  {
   "cell_type": "code",
   "execution_count": 5,
   "metadata": {},
   "outputs": [
    {
     "name": "stdout",
     "output_type": "stream",
     "text": [
      "The random matrix is-\n",
      "[[ 0.80072003 -2.34141241  0.74050849 -0.67883128  0.86983841]\n",
      " [ 1.23485862  0.50144093 -1.05403635  2.01512531  0.789562  ]\n",
      " [-0.51048205 -2.23317884 -0.91918667  1.39460946  0.42885486]\n",
      " [-1.11270234 -0.09076029  0.24202005 -1.23414966 -1.46926382]\n",
      " [ 1.39414988 -0.03305611  2.14101282  0.4764322   0.90298623]]\n",
      "The norm value of random matrix is-\n",
      "6.019955743925033\n",
      "The normalized random mattrix is-\n",
      "[[ 0.13301095 -0.3889418   0.12300896 -0.1127635   0.14449249]\n",
      " [ 0.20512753  0.08329645 -0.17509038  0.33474088  0.13115744]\n",
      " [-0.08479831 -0.37096267 -0.15268994  0.2316644   0.07123887]\n",
      " [-0.18483563 -0.01507657  0.04020296 -0.20500976 -0.24406555]\n",
      " [ 0.23158806 -0.00549109  0.35565258  0.07914214  0.14999881]]\n"
     ]
    }
   ],
   "source": [
    "d=np.random.randn(5,5)#creates a matrix of specified filled with random numbers\n",
    "print(\"The random matrix is-\")\n",
    "print(d)\n",
    "normal=np.linalg.norm(d)#computes the norm of the given matrix \n",
    "print(\"The norm value of random matrix is-\")\n",
    "print(normal)\n",
    "e=np.divide(d,normal)#computes the normalized matrix\n",
    "print(\"The normalized random mattrix is-\")\n",
    "print(e)"
   ]
  },
  {
   "cell_type": "markdown",
   "metadata": {},
   "source": [
    "# 5. How to find common values between two arrays?\n"
   ]
  },
  {
   "cell_type": "code",
   "execution_count": 6,
   "metadata": {},
   "outputs": [
    {
     "name": "stdout",
     "output_type": "stream",
     "text": [
      "The 1st array is-\n",
      "[1 2 3 4 5]\n",
      "The 2nd array is-\n",
      "[ 2  4  6  8 10]\n",
      "Common values between two arrays are-\n",
      "[2 4]\n"
     ]
    }
   ],
   "source": [
    "f=np.array([1,2,3,4,5])\n",
    "print(\"The 1st array is-\")\n",
    "print(f)\n",
    "g=np.array([2,4,6,8,10])\n",
    "print(\"The 2nd array is-\")\n",
    "print(g)\n",
    "com_values=np.intersect1d(f,g)#computes common values in two input arrays\n",
    "print(\"Common values between two arrays are-\")\n",
    "print(com_values)\n"
   ]
  },
  {
   "cell_type": "markdown",
   "metadata": {},
   "source": [
    "# 6.How to get the dates of yesterday, today and tomorrow?"
   ]
  },
  {
   "cell_type": "code",
   "execution_count": 7,
   "metadata": {},
   "outputs": [
    {
     "name": "stdout",
     "output_type": "stream",
     "text": [
      "Yestraday's Date:  2020-07-27\n",
      "Today's Date:  2020-07-28\n",
      "Tomorrow's Date:  2020-07-29\n"
     ]
    }
   ],
   "source": [
    " yesterday =np.datetime64('today', 'D') - np.timedelta64(1, 'D')\n",
    "print(\"Yestraday's Date: \",yesterday)\n",
    "today= np.datetime64('today', 'D')\n",
    "print(\"Today's Date: \",today)\n",
    "tomorrow= np.datetime64('today', 'D') + np.timedelta64(1, 'D')\n",
    "print(\"Tomorrow's Date: \",tomorrow)"
   ]
  },
  {
   "cell_type": "markdown",
   "metadata": {},
   "source": [
    "# 7. Consider two random array A and B, check if they are equal"
   ]
  },
  {
   "cell_type": "code",
   "execution_count": 8,
   "metadata": {},
   "outputs": [
    {
     "name": "stdout",
     "output_type": "stream",
     "text": [
      "Output is True if two arrays are equal\n",
      "Output is False if two arrays are equal\n",
      "Output: True\n"
     ]
    }
   ],
   "source": [
    "h=np.array([1,2,3])\n",
    "i=np.array([1,2,3])\n",
    "comparison = h == i\n",
    "equal_arrays = comparison.all()#compare two arrays and returns boolean expression\n",
    "print(\"Output is True if two arrays are equal\")\n",
    "print(\"Output is False if two arrays are equal\")\n",
    "print(\"Output:\",equal_arrays)"
   ]
  },
  {
   "cell_type": "code",
   "execution_count": 9,
   "metadata": {},
   "outputs": [
    {
     "name": "stdout",
     "output_type": "stream",
     "text": [
      "Output is True if two arrays are equal\n",
      "Output is False if two arrays are equal\n",
      "Output: False\n"
     ]
    }
   ],
   "source": [
    "h=np.array([1,2,3])\n",
    "i=np.array([4,5,6])\n",
    "comparison = h == i\n",
    "equal_arrays = comparison.all()\n",
    "print(\"Output is True if two arrays are equal\")\n",
    "print(\"Output is False if two arrays are equal\")\n",
    "print(\"Output:\",equal_arrays)"
   ]
  },
  {
   "cell_type": "markdown",
   "metadata": {},
   "source": [
    "# 8.Create random vector of size 10 and replace the maximum value by 0"
   ]
  },
  {
   "cell_type": "code",
   "execution_count": 10,
   "metadata": {},
   "outputs": [
    {
     "name": "stdout",
     "output_type": "stream",
     "text": [
      "The random vector is-\n",
      "[[-0.97405614]\n",
      " [ 0.41392074]\n",
      " [ 1.28491454]\n",
      " [-0.70790679]\n",
      " [-0.55164903]\n",
      " [-1.39869802]\n",
      " [-1.30545291]\n",
      " [ 3.63513915]\n",
      " [-0.83316454]\n",
      " [ 0.58702389]]\n",
      "The maximum value in the vector is-\n",
      "3.6351391468993683\n",
      "The new vector is-\n",
      "[[-0.97405614]\n",
      " [ 0.41392074]\n",
      " [ 1.28491454]\n",
      " [-0.70790679]\n",
      " [-0.55164903]\n",
      " [-1.39869802]\n",
      " [-1.30545291]\n",
      " [ 0.        ]\n",
      " [-0.83316454]\n",
      " [ 0.58702389]]\n"
     ]
    }
   ],
   "source": [
    "vec=np.random.randn(10,1)#creates a random vector of given order\n",
    "print(\"The random vector is-\")\n",
    "print(vec)\n",
    "max_val=np.amax(vec)#computes the maximum value from a given vector\n",
    "print(\"The maximum value in the vector is-\")\n",
    "print(max_val)\n",
    "loc=np.where(vec==max_val)#find the index of the maximum value\n",
    "vec[loc]=0\n",
    "print(\"The new vector is-\")\n",
    "print(vec)"
   ]
  },
  {
   "cell_type": "markdown",
   "metadata": {},
   "source": [
    "# 9. How to print all the values of an array?"
   ]
  },
  {
   "cell_type": "code",
   "execution_count": 11,
   "metadata": {},
   "outputs": [
    {
     "name": "stdout",
     "output_type": "stream",
     "text": [
      "The array is:\n",
      "[1.16794979 0.4225643  0.94673857]\n",
      "The element at index( 0 ) is: 1.1679497923003228\n",
      "The element at index( 1 ) is: 0.422564299082986\n",
      "The element at index( 2 ) is: 0.9467385663115679\n"
     ]
    }
   ],
   "source": [
    "l=np.random.randn(3,)#creates a random array of given order\n",
    "print(\"The array is:\")\n",
    "print(l)\n",
    "for i in range(len(l)):\n",
    "    print(\"The element at index(\",i,\") is:\",l[i])"
   ]
  },
  {
   "cell_type": "code",
   "execution_count": 12,
   "metadata": {},
   "outputs": [
    {
     "name": "stdout",
     "output_type": "stream",
     "text": [
      "The array is:\n",
      "[[ 0.02554538 -1.42684958  1.89210166]\n",
      " [ 1.3965061  -1.64846499 -0.62485114]\n",
      " [ 1.58973198 -0.07511576 -0.89777486]]\n",
      "The element at index( 0 , 0 )is: 0.025545381237552924\n",
      "The element at index( 0 , 1 )is: -1.4268495787244773\n",
      "The element at index( 0 , 2 )is: 1.892101664706043\n",
      "The element at index( 1 , 0 )is: 1.3965061041945892\n",
      "The element at index( 1 , 1 )is: -1.6484649940457647\n",
      "The element at index( 1 , 2 )is: -0.6248511440119224\n",
      "The element at index( 2 , 0 )is: 1.5897319820735196\n",
      "The element at index( 2 , 1 )is: -0.07511575841766024\n",
      "The element at index( 2 , 2 )is: -0.8977748586202817\n"
     ]
    }
   ],
   "source": [
    "l=np.random.randn(3,3)#creates a random array of given order\n",
    "print(\"The array is:\")\n",
    "print(l)\n",
    "for i in range(len(l)):\n",
    "    for j in range(len(l)):\n",
    "        print(\"The element at index(\",i,\",\",j,\")is:\",l[i][j])"
   ]
  },
  {
   "cell_type": "markdown",
   "metadata": {},
   "source": [
    "# 10.Subtract the mean of each row of a matrix"
   ]
  },
  {
   "cell_type": "code",
   "execution_count": 13,
   "metadata": {},
   "outputs": [
    {
     "name": "stdout",
     "output_type": "stream",
     "text": [
      "The matrix is-\n",
      "[[-1.89656167  0.14075871 -1.9373509 ]\n",
      " [-0.7853598  -0.17030867  0.62139727]\n",
      " [-0.65807611  1.01245342  0.93966634]]\n",
      "The mean value of each row is-\n",
      "[-1.23105129 -0.11142373  0.43134788]\n",
      "The matrix after the mean is subtracted-\n",
      "[[-0.66551038  0.25218244 -2.36869878]\n",
      " [ 0.44569149 -0.05888493  0.19004938]\n",
      " [ 0.57297517  1.12387715  0.50831846]]\n"
     ]
    }
   ],
   "source": [
    "arr=np.random.randn(3,3)#creates a random matrix of given order\n",
    "print(\"The matrix is-\")\n",
    "print(arr)\n",
    "print(\"The mean value of each row is-\")\n",
    "arr1=np.mean(arr,axis=1)#computes the mean of each row\n",
    "print(arr1)\n",
    "arr2=arr-arr1\n",
    "print(\"The matrix after the mean is subtracted-\")\n",
    "print(arr2)"
   ]
  },
  {
   "cell_type": "markdown",
   "metadata": {},
   "source": [
    "# 11.Consider a given vector, how to add 1 to each element indexed by a second vector (be careful with repeated indices)?"
   ]
  },
  {
   "cell_type": "code",
   "execution_count": 14,
   "metadata": {},
   "outputs": [
    {
     "name": "stdout",
     "output_type": "stream",
     "text": [
      "The original vector is:\n",
      "[[ 1.84649652]\n",
      " [ 0.53918354]\n",
      " [ 0.76265085]\n",
      " [ 0.68308069]\n",
      " [-0.15039523]\n",
      " [-0.47038158]\n",
      " [-0.29187792]\n",
      " [ 0.30813064]\n",
      " [ 0.93501066]\n",
      " [-0.99153658]]\n",
      "The Index values are:\n",
      "[7 1 4 8]\n",
      "Final vector after adding 1 to corresponding elements at the specified indices:\n",
      "[[ 1.84649652]\n",
      " [ 1.53918354]\n",
      " [ 0.76265085]\n",
      " [ 0.68308069]\n",
      " [ 0.84960477]\n",
      " [-0.47038158]\n",
      " [-0.29187792]\n",
      " [ 1.30813064]\n",
      " [ 1.93501066]\n",
      " [-0.99153658]]\n"
     ]
    }
   ],
   "source": [
    "Z = np.random.randn(10,1)#creates a random vector of given order\n",
    "print(\"The original vector is:\")\n",
    "print(Z)\n",
    "I=np.random.randint(0,len(Z),4)#generates 4 random integers in a specified range,used as index values\n",
    "print(\"The Index values are:\")\n",
    "print(I)\n",
    "print(\"Final vector after adding 1 to corresponding elements at the specified indices:\")\n",
    "np.add.at(Z,I,1)#Adds 1 to the elements in given vector (Z) at the specified index values(I)\n",
    "print(Z)"
   ]
  },
  {
   "cell_type": "code",
   "execution_count": null,
   "metadata": {},
   "outputs": [],
   "source": []
  }
 ],
 "metadata": {
  "kernelspec": {
   "display_name": "Python 3",
   "language": "python",
   "name": "python3"
  },
  "language_info": {
   "codemirror_mode": {
    "name": "ipython",
    "version": 3
   },
   "file_extension": ".py",
   "mimetype": "text/x-python",
   "name": "python",
   "nbconvert_exporter": "python",
   "pygments_lexer": "ipython3",
   "version": "3.8.3"
  }
 },
 "nbformat": 4,
 "nbformat_minor": 4
}
