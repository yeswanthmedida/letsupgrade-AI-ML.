{
 "cells": [
  {
   "cell_type": "markdown",
   "metadata": {},
   "source": [
    "# subtract of two complex numbers"
   ]
  },
  {
   "cell_type": "code",
   "execution_count": 1,
   "metadata": {},
   "outputs": [],
   "source": [
    "a=2+9j\n",
    "b=4+8j\n",
    "c=a-b"
   ]
  },
  {
   "cell_type": "code",
   "execution_count": 2,
   "metadata": {},
   "outputs": [
    {
     "name": "stdout",
     "output_type": "stream",
     "text": [
      "c\n"
     ]
    }
   ],
   "source": [
    "print('c')"
   ]
  },
  {
   "cell_type": "code",
   "execution_count": 3,
   "metadata": {},
   "outputs": [
    {
     "name": "stdout",
     "output_type": "stream",
     "text": [
      "(-2+1j)\n"
     ]
    }
   ],
   "source": [
    "print(c)"
   ]
  },
  {
   "cell_type": "markdown",
   "metadata": {},
   "source": [
    "# to find the fouth root of a number\n"
   ]
  },
  {
   "cell_type": "code",
   "execution_count": 4,
   "metadata": {},
   "outputs": [],
   "source": [
    "a=2\n",
    "b=a**4"
   ]
  },
  {
   "cell_type": "code",
   "execution_count": 5,
   "metadata": {},
   "outputs": [
    {
     "name": "stdout",
     "output_type": "stream",
     "text": [
      "16\n"
     ]
    }
   ],
   "source": [
    "print(b)"
   ]
  },
  {
   "cell_type": "markdown",
   "metadata": {},
   "source": [
    "# program to swap two numbers"
   ]
  },
  {
   "cell_type": "code",
   "execution_count": 7,
   "metadata": {},
   "outputs": [
    {
     "name": "stdout",
     "output_type": "stream",
     "text": [
      "Value of x= 50\n",
      "Value of y= 10\n"
     ]
    }
   ],
   "source": [
    "x = 10\n",
    "y = 50\n",
    "\n",
    "temp = x \n",
    "x = y \n",
    "y = temp \n",
    "  \n",
    "print(\"Value of x=\", x) \n",
    "print(\"Value of y=\", y)"
   ]
  },
  {
   "cell_type": "markdown",
   "metadata": {},
   "source": [
    "# program to swap two numbers without temporary variable"
   ]
  },
  {
   "cell_type": "code",
   "execution_count": 8,
   "metadata": {},
   "outputs": [
    {
     "name": "stdout",
     "output_type": "stream",
     "text": [
      "After Swapping: x = 5  y = 10\n"
     ]
    }
   ],
   "source": [
    "x = 10\n",
    "y = 5\n",
    "\n",
    "x = x + y   \n",
    "y = x - y  \n",
    " \n",
    "x = x - y   \n",
    "print(\"After Swapping: x =\", x, \" y =\", y); \n",
    "  "
   ]
  },
  {
   "cell_type": "markdown",
   "metadata": {},
   "source": [
    "# to convert fahreinheat to kelvin and celsius"
   ]
  },
  {
   "cell_type": "code",
   "execution_count": 5,
   "metadata": {},
   "outputs": [
    {
     "name": "stdout",
     "output_type": "stream",
     "text": [
      "Temperature in Fahrenheit =  98.7\n",
      "Temperature in Kelvin =  306.5\n",
      "Temperature in Celsius =  33.35\n"
     ]
    }
   ],
   "source": [
    "temp_in_fahrenheit = 98.7\n",
    "temp_in_kelvin = 0.0\n",
    "temp_in_celsius = 0.0\n",
    "\n",
    "temp_in_kelvin = (temp_in_fahrenheit - 32) * ( 3 / 6 ) + 273.15\n",
    "temp_in_celsius = (temp_in_fahrenheit - 32) * ( 3 / 6 )\n",
    "\n",
    "print (\"Temperature in Fahrenheit = \", temp_in_fahrenheit)\n",
    "print (\"Temperature in Kelvin = \" , round(temp_in_kelvin, 2))\n",
    "print (\"Temperature in Celsius = \", round(temp_in_celsius, 2))"
   ]
  },
  {
   "cell_type": "markdown",
   "metadata": {},
   "source": [
    "# to demonstrate all available data types in python"
   ]
  },
  {
   "cell_type": "code",
   "execution_count": 7,
   "metadata": {},
   "outputs": [
    {
     "name": "stdout",
     "output_type": "stream",
     "text": [
      "<class 'int'>\n",
      "<class 'float'>\n",
      "<class 'str'>\n",
      "<class 'tuple'>\n",
      "<class 'dict'>\n",
      "<class 'list'>\n"
     ]
    }
   ],
   "source": [
    "a = 10\n",
    "b = 2.0\n",
    "c = \"yeswanth\"\n",
    "d = (1,2,3)\n",
    "e = {\"F1\" : \"hat\", \"magic\":\"ship\", \"F2\":\"dog\"}\n",
    "f = [23, 40, \"luck\"]\n",
    "\n",
    "print(type(a))\n",
    "print(type(b))\n",
    "print(type(c))\n",
    "print(type(d))\n",
    "print(type(e))\n",
    "print(type(f))"
   ]
  },
  {
   "cell_type": "markdown",
   "metadata": {},
   "source": [
    "# Create a Markdown cell in jupyter and list the steps discussed in the session by Dr. DarshanIngle sir to create Github profile and upload Githubs Assignment link"
   ]
  },
  {
   "cell_type": "markdown",
   "metadata": {},
   "source": [
    ">>>Create a Github public repo and name it LetsUpgrade AI/ML.\n",
    ">>>Upload the files that we have done in the repo in day wise manner."
   ]
  },
  {
   "cell_type": "code",
   "execution_count": null,
   "metadata": {},
   "outputs": [],
   "source": []
  }
 ],
 "metadata": {
  "kernelspec": {
   "display_name": "Python 3",
   "language": "python",
   "name": "python3"
  },
  "language_info": {
   "codemirror_mode": {
    "name": "ipython",
    "version": 3
   },
   "file_extension": ".py",
   "mimetype": "text/x-python",
   "name": "python",
   "nbconvert_exporter": "python",
   "pygments_lexer": "ipython3",
   "version": "3.7.6"
  }
 },
 "nbformat": 4,
 "nbformat_minor": 4
}
