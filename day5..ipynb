{
 "cells": [
  {
   "cell_type": "markdown",
   "metadata": {},
   "source": [
    "# Write a Python program to find the first 20 non-even prime natural numbers."
   ]
  },
  {
   "cell_type": "code",
   "execution_count": 1,
   "metadata": {},
   "outputs": [
    {
     "name": "stdout",
     "output_type": "stream",
     "text": [
      "Enter start number 2\n",
      "Enter end number 1000\n",
      "[2, 3, 5, 7, 11, 13, 17, 19, 23, 29, 31, 37, 41, 43, 47, 53, 59, 61, 67, 71]\n"
     ]
    }
   ],
   "source": [
    "a=int(input(\"Enter start number \"))\n",
    "b=int(input(\"Enter end number \"))\n",
    "X=[]\n",
    "z=0\n",
    "for num in range(a,b+1):\n",
    "    if num>1:\n",
    "        for i in range(2,num):\n",
    "            if num%i == 0:\n",
    "                break\n",
    "        else:\n",
    "            X.append(num)\n",
    "            z=z+1\n",
    "            if z==20:\n",
    "                break\n",
    "print(X)"
   ]
  },
  {
   "cell_type": "markdown",
   "metadata": {},
   "source": [
    "# Python program to implement 15 functions of string"
   ]
  },
  {
   "cell_type": "code",
   "execution_count": 2,
   "metadata": {},
   "outputs": [
    {
     "name": "stdout",
     "output_type": "stream",
     "text": [
      "iam nothing in life\n",
      "IAM NOTHING IN LIFE\n",
      "1\n",
      "False\n",
      "iam nothing in life\n",
      "IAM NOTHING IN LIFE\n",
      "True\n",
      "iam alone in life\n",
      "True\n",
      "Iam Nothing In Life\n",
      "['iam', 'nothing', 'in', 'life']\n",
      "Iam nothing in life\n",
      "                                        iam nothing in life                                         \n",
      "8\n",
      "False\n"
     ]
    }
   ],
   "source": [
    "my_str='iam nothing in life'\n",
    "print(my_str)\n",
    "\n",
    "#Methods\n",
    "print(my_str.upper())\n",
    "print(my_str.count('nothing'))\n",
    "print(my_str.isnumeric())\n",
    "print(my_str.lower())\n",
    "print(my_str.swapcase())\n",
    "print(my_str.endswith('life'))\n",
    "print(my_str.replace('nothing','alone'))\n",
    "print(my_str.isprintable())\n",
    "print(my_str.title())\n",
    "print(my_str.split())\n",
    "print(my_str.capitalize())\n",
    "print(my_str.center(100))\n",
    "print(my_str.find(\"in\"))\n",
    "print(my_str.isalpha())"
   ]
  },
  {
   "cell_type": "markdown",
   "metadata": {},
   "source": [
    "# Python program to check if the given string is a Palindrome or Anagram or None of them\n"
   ]
  },
  {
   "cell_type": "code",
   "execution_count": 7,
   "metadata": {},
   "outputs": [
    {
     "name": "stdout",
     "output_type": "stream",
     "text": [
      "Enter a First string: mikel\n",
      "Enter a Second string: likem\n",
      "The strings are Anagram\n"
     ]
    }
   ],
   "source": [
    "a=input(\"Enter a First string: \")\n",
    "b=input(\"Enter a Second string: \")\n",
    "\n",
    "\n",
    "X=[]\n",
    "for i in a:\n",
    "    X.append(i)\n",
    "if X==X[::-1]:\n",
    "    print(\"The given word is palindrome\")\n",
    "elif (sorted(a)==sorted(b)):\n",
    "    print(\"The strings are Anagram\")\n",
    "else:\n",
    "    print(\"None of the above !!!\")"
   ]
  },
  {
   "cell_type": "markdown",
   "metadata": {},
   "source": [
    "# Write a Python's user defined function that removes all the additional characters from the string and converts it finally to lower case using built-in lower(). eg: If the string is \"Dr. Darshan Ingle @AI-ML Trainer\", then the output be \"drdarshaningleaimltrainer\"."
   ]
  },
  {
   "cell_type": "code",
   "execution_count": 8,
   "metadata": {},
   "outputs": [
    {
     "name": "stdout",
     "output_type": "stream",
     "text": [
      "Enter any string...my name is yeswanth\n",
      "mynameisyeswanth\n"
     ]
    }
   ],
   "source": [
    "name=input(\"Enter any string...\")\n",
    "alphabetic = \"\"\n",
    "\n",
    "for character in name:\n",
    "    if character.isalpha():\n",
    "        alphabetic += character\n",
    "print(alphabetic.lower())"
   ]
  },
  {
   "cell_type": "code",
   "execution_count": null,
   "metadata": {},
   "outputs": [],
   "source": []
  }
 ],
 "metadata": {
  "kernelspec": {
   "display_name": "Python 3",
   "language": "python",
   "name": "python3"
  },
  "language_info": {
   "codemirror_mode": {
    "name": "ipython",
    "version": 3
   },
   "file_extension": ".py",
   "mimetype": "text/x-python",
   "name": "python",
   "nbconvert_exporter": "python",
   "pygments_lexer": "ipython3",
   "version": "3.7.6"
  }
 },
 "nbformat": 4,
 "nbformat_minor": 4
}
