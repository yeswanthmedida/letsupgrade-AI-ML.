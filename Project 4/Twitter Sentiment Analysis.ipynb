{
 "cells": [
  {
   "cell_type": "raw",
   "metadata": {},
   "source": [
    "We will collect text data using Twitter API."
   ]
  },
  {
   "cell_type": "code",
   "execution_count": 49,
   "metadata": {},
   "outputs": [
    {
     "name": "stdout",
     "output_type": "stream",
     "text": [
      "Requirement already satisfied: tweepy in c:\\users\\vivek.m\\anaconda3\\new folder\\new folder\\lib\\site-packages (3.9.0)\n",
      "Requirement already satisfied: six>=1.10.0 in c:\\users\\vivek.m\\anaconda3\\new folder\\new folder\\lib\\site-packages (from tweepy) (1.14.0)\n",
      "Requirement already satisfied: requests[socks]>=2.11.1 in c:\\users\\vivek.m\\anaconda3\\new folder\\new folder\\lib\\site-packages (from tweepy) (2.22.0)\n",
      "Requirement already satisfied: requests-oauthlib>=0.7.0 in c:\\users\\vivek.m\\anaconda3\\new folder\\new folder\\lib\\site-packages (from tweepy) (1.3.0)\n",
      "Requirement already satisfied: urllib3!=1.25.0,!=1.25.1,<1.26,>=1.21.1 in c:\\users\\vivek.m\\anaconda3\\new folder\\new folder\\lib\\site-packages (from requests[socks]>=2.11.1->tweepy) (1.25.8)\n",
      "Requirement already satisfied: idna<2.9,>=2.5 in c:\\users\\vivek.m\\anaconda3\\new folder\\new folder\\lib\\site-packages (from requests[socks]>=2.11.1->tweepy) (2.8)\n",
      "Requirement already satisfied: chardet<3.1.0,>=3.0.2 in c:\\users\\vivek.m\\anaconda3\\new folder\\new folder\\lib\\site-packages (from requests[socks]>=2.11.1->tweepy) (3.0.4)\n",
      "Requirement already satisfied: certifi>=2017.4.17 in c:\\users\\vivek.m\\anaconda3\\new folder\\new folder\\lib\\site-packages (from requests[socks]>=2.11.1->tweepy) (2019.11.28)\n",
      "Requirement already satisfied: PySocks!=1.5.7,>=1.5.6; extra == \"socks\" in c:\\users\\vivek.m\\anaconda3\\new folder\\new folder\\lib\\site-packages (from requests[socks]>=2.11.1->tweepy) (1.7.1)\n",
      "Requirement already satisfied: oauthlib>=3.0.0 in c:\\users\\vivek.m\\anaconda3\\new folder\\new folder\\lib\\site-packages (from requests-oauthlib>=0.7.0->tweepy) (3.1.0)\n"
     ]
    }
   ],
   "source": [
    "!pip install tweepy"
   ]
  },
  {
   "cell_type": "code",
   "execution_count": 50,
   "metadata": {},
   "outputs": [
    {
     "name": "stdout",
     "output_type": "stream",
     "text": [
      "Requirement already satisfied: openpyxl in c:\\users\\vivek.m\\anaconda3\\new folder\\new folder\\lib\\site-packages (3.0.3)\n",
      "Requirement already satisfied: et-xmlfile in c:\\users\\vivek.m\\anaconda3\\new folder\\new folder\\lib\\site-packages (from openpyxl) (1.0.1)\n",
      "Requirement already satisfied: jdcal in c:\\users\\vivek.m\\anaconda3\\new folder\\new folder\\lib\\site-packages (from openpyxl) (1.4.1)\n"
     ]
    }
   ],
   "source": [
    "!pip install openpyxl"
   ]
  },
  {
   "cell_type": "code",
   "execution_count": 51,
   "metadata": {},
   "outputs": [],
   "source": [
    "import numpy as np\n",
    "import pandas as pd\n",
    "import tweepy\n",
    "import json\n",
    "from tweepy import OAuthHandler"
   ]
  },
  {
   "cell_type": "code",
   "execution_count": 52,
   "metadata": {},
   "outputs": [],
   "source": [
    "consumer_key = \"LzsCOl12ZZ79FObx7BV9a1R3a\"\n",
    "consumer_secret = \"gODxZ1kHJHDGgYfyP12AUN37UTlDd6yn3OsSV9Tl0iwu0K0cRY\"\n",
    "access_token = \"296102538-kYIK8SULCmRK4vgvYD2DhKbwvSXrgTdTkWh0Nvsp\"\n",
    "access_token_secret = \"Ib9obwgcE5tZk4S6tY5rAqI5iXOeJc9FGFg28qHoa4YpP\""
   ]
  },
  {
   "cell_type": "code",
   "execution_count": 53,
   "metadata": {},
   "outputs": [],
   "source": [
    "auth = tweepy.OAuthHandler( consumer_key , consumer_secret )\n",
    "auth.set_access_token( access_token , access_token_secret )\n",
    "api = tweepy.API(auth)"
   ]
  },
  {
   "cell_type": "code",
   "execution_count": 69,
   "metadata": {},
   "outputs": [],
   "source": [
    "query = \"covid positive cases in karnataka\""
   ]
  },
  {
   "cell_type": "code",
   "execution_count": 70,
   "metadata": {},
   "outputs": [
    {
     "name": "stdout",
     "output_type": "stream",
     "text": [
      "Status(_api=<tweepy.api.API object at 0x0000022CE501E888>, _json={'created_at': 'Fri Oct 30 17:55:06 +0000 2020', 'id': 1322235594567802882, 'id_str': '1322235594567802882', 'full_text': 'Positive COVID 19 cases and deaths attributed to the virus both rose substantially in Oklahoma during the month of October. https://t.co/oO0x0rpn1F', 'truncated': False, 'display_text_range': [0, 147], 'entities': {'hashtags': [], 'symbols': [], 'user_mentions': [], 'urls': [{'url': 'https://t.co/oO0x0rpn1F', 'expanded_url': 'https://tulsaworld.com/community/wagoner/news/covid-19-numbers-on-the-rise-new-deaths-include-coweta-woman/article_909a973c-1ad6-11eb-9a6b-3775e069150c.html?utm_campaign=snd-autopilot&utm_medium=social&utm_source=twitter_WagonerCountyAT', 'display_url': 'tulsaworld.com/community/wago…', 'indices': [124, 147]}]}, 'metadata': {'iso_language_code': 'en', 'result_type': 'recent'}, 'source': '<a href=\"http://www.socialnewsdesk.com\" rel=\"nofollow\">SocialNewsDesk</a>', 'in_reply_to_status_id': None, 'in_reply_to_status_id_str': None, 'in_reply_to_user_id': None, 'in_reply_to_user_id_str': None, 'in_reply_to_screen_name': None, 'user': {'id': 335988347, 'id_str': '335988347', 'name': 'WagonerCountyAT', 'screen_name': 'WagonerCountyAT', 'location': 'Wagoner, Oklahoma', 'description': 'Follow us for the latest news in Wagoner County.', 'url': 'https://t.co/Jq30G2lpwU', 'entities': {'url': {'urls': [{'url': 'https://t.co/Jq30G2lpwU', 'expanded_url': 'http://wagonercountyAT.com', 'display_url': 'wagonercountyAT.com', 'indices': [0, 23]}]}, 'description': {'urls': []}}, 'protected': False, 'followers_count': 404, 'friends_count': 77, 'listed_count': 5, 'created_at': 'Fri Jul 15 15:31:33 +0000 2011', 'favourites_count': 4, 'utc_offset': None, 'time_zone': None, 'geo_enabled': False, 'verified': False, 'statuses_count': 9987, 'lang': None, 'contributors_enabled': False, 'is_translator': False, 'is_translation_enabled': False, 'profile_background_color': 'C0DEED', 'profile_background_image_url': 'http://abs.twimg.com/images/themes/theme1/bg.png', 'profile_background_image_url_https': 'https://abs.twimg.com/images/themes/theme1/bg.png', 'profile_background_tile': False, 'profile_image_url': 'http://pbs.twimg.com/profile_images/776043768952872960/RWdDZPwn_normal.jpg', 'profile_image_url_https': 'https://pbs.twimg.com/profile_images/776043768952872960/RWdDZPwn_normal.jpg', 'profile_banner_url': 'https://pbs.twimg.com/profile_banners/335988347/1529685894', 'profile_link_color': '19CF86', 'profile_sidebar_border_color': 'FFFFFF', 'profile_sidebar_fill_color': 'E8EAEB', 'profile_text_color': '333333', 'profile_use_background_image': False, 'has_extended_profile': False, 'default_profile': False, 'default_profile_image': False, 'following': False, 'follow_request_sent': False, 'notifications': False, 'translator_type': 'none'}, 'geo': None, 'coordinates': None, 'place': None, 'contributors': None, 'is_quote_status': False, 'retweet_count': 0, 'favorite_count': 0, 'favorited': False, 'retweeted': False, 'possibly_sensitive': False, 'lang': 'en'}, created_at=datetime.datetime(2020, 10, 30, 17, 55, 6), id=1322235594567802882, id_str='1322235594567802882', full_text='Positive COVID 19 cases and deaths attributed to the virus both rose substantially in Oklahoma during the month of October. https://t.co/oO0x0rpn1F', truncated=False, display_text_range=[0, 147], entities={'hashtags': [], 'symbols': [], 'user_mentions': [], 'urls': [{'url': 'https://t.co/oO0x0rpn1F', 'expanded_url': 'https://tulsaworld.com/community/wagoner/news/covid-19-numbers-on-the-rise-new-deaths-include-coweta-woman/article_909a973c-1ad6-11eb-9a6b-3775e069150c.html?utm_campaign=snd-autopilot&utm_medium=social&utm_source=twitter_WagonerCountyAT', 'display_url': 'tulsaworld.com/community/wago…', 'indices': [124, 147]}]}, metadata={'iso_language_code': 'en', 'result_type': 'recent'}, source='SocialNewsDesk', source_url='http://www.socialnewsdesk.com', in_reply_to_status_id=None, in_reply_to_status_id_str=None, in_reply_to_user_id=None, in_reply_to_user_id_str=None, in_reply_to_screen_name=None, author=User(_api=<tweepy.api.API object at 0x0000022CE501E888>, _json={'id': 335988347, 'id_str': '335988347', 'name': 'WagonerCountyAT', 'screen_name': 'WagonerCountyAT', 'location': 'Wagoner, Oklahoma', 'description': 'Follow us for the latest news in Wagoner County.', 'url': 'https://t.co/Jq30G2lpwU', 'entities': {'url': {'urls': [{'url': 'https://t.co/Jq30G2lpwU', 'expanded_url': 'http://wagonercountyAT.com', 'display_url': 'wagonercountyAT.com', 'indices': [0, 23]}]}, 'description': {'urls': []}}, 'protected': False, 'followers_count': 404, 'friends_count': 77, 'listed_count': 5, 'created_at': 'Fri Jul 15 15:31:33 +0000 2011', 'favourites_count': 4, 'utc_offset': None, 'time_zone': None, 'geo_enabled': False, 'verified': False, 'statuses_count': 9987, 'lang': None, 'contributors_enabled': False, 'is_translator': False, 'is_translation_enabled': False, 'profile_background_color': 'C0DEED', 'profile_background_image_url': 'http://abs.twimg.com/images/themes/theme1/bg.png', 'profile_background_image_url_https': 'https://abs.twimg.com/images/themes/theme1/bg.png', 'profile_background_tile': False, 'profile_image_url': 'http://pbs.twimg.com/profile_images/776043768952872960/RWdDZPwn_normal.jpg', 'profile_image_url_https': 'https://pbs.twimg.com/profile_images/776043768952872960/RWdDZPwn_normal.jpg', 'profile_banner_url': 'https://pbs.twimg.com/profile_banners/335988347/1529685894', 'profile_link_color': '19CF86', 'profile_sidebar_border_color': 'FFFFFF', 'profile_sidebar_fill_color': 'E8EAEB', 'profile_text_color': '333333', 'profile_use_background_image': False, 'has_extended_profile': False, 'default_profile': False, 'default_profile_image': False, 'following': False, 'follow_request_sent': False, 'notifications': False, 'translator_type': 'none'}, id=335988347, id_str='335988347', name='WagonerCountyAT', screen_name='WagonerCountyAT', location='Wagoner, Oklahoma', description='Follow us for the latest news in Wagoner County.', url='https://t.co/Jq30G2lpwU', entities={'url': {'urls': [{'url': 'https://t.co/Jq30G2lpwU', 'expanded_url': 'http://wagonercountyAT.com', 'display_url': 'wagonercountyAT.com', 'indices': [0, 23]}]}, 'description': {'urls': []}}, protected=False, followers_count=404, friends_count=77, listed_count=5, created_at=datetime.datetime(2011, 7, 15, 15, 31, 33), favourites_count=4, utc_offset=None, time_zone=None, geo_enabled=False, verified=False, statuses_count=9987, lang=None, contributors_enabled=False, is_translator=False, is_translation_enabled=False, profile_background_color='C0DEED', profile_background_image_url='http://abs.twimg.com/images/themes/theme1/bg.png', profile_background_image_url_https='https://abs.twimg.com/images/themes/theme1/bg.png', profile_background_tile=False, profile_image_url='http://pbs.twimg.com/profile_images/776043768952872960/RWdDZPwn_normal.jpg', profile_image_url_https='https://pbs.twimg.com/profile_images/776043768952872960/RWdDZPwn_normal.jpg', profile_banner_url='https://pbs.twimg.com/profile_banners/335988347/1529685894', profile_link_color='19CF86', profile_sidebar_border_color='FFFFFF', profile_sidebar_fill_color='E8EAEB', profile_text_color='333333', profile_use_background_image=False, has_extended_profile=False, default_profile=False, default_profile_image=False, following=False, follow_request_sent=False, notifications=False, translator_type='none'), user=User(_api=<tweepy.api.API object at 0x0000022CE501E888>, _json={'id': 335988347, 'id_str': '335988347', 'name': 'WagonerCountyAT', 'screen_name': 'WagonerCountyAT', 'location': 'Wagoner, Oklahoma', 'description': 'Follow us for the latest news in Wagoner County.', 'url': 'https://t.co/Jq30G2lpwU', 'entities': {'url': {'urls': [{'url': 'https://t.co/Jq30G2lpwU', 'expanded_url': 'http://wagonercountyAT.com', 'display_url': 'wagonercountyAT.com', 'indices': [0, 23]}]}, 'description': {'urls': []}}, 'protected': False, 'followers_count': 404, 'friends_count': 77, 'listed_count': 5, 'created_at': 'Fri Jul 15 15:31:33 +0000 2011', 'favourites_count': 4, 'utc_offset': None, 'time_zone': None, 'geo_enabled': False, 'verified': False, 'statuses_count': 9987, 'lang': None, 'contributors_enabled': False, 'is_translator': False, 'is_translation_enabled': False, 'profile_background_color': 'C0DEED', 'profile_background_image_url': 'http://abs.twimg.com/images/themes/theme1/bg.png', 'profile_background_image_url_https': 'https://abs.twimg.com/images/themes/theme1/bg.png', 'profile_background_tile': False, 'profile_image_url': 'http://pbs.twimg.com/profile_images/776043768952872960/RWdDZPwn_normal.jpg', 'profile_image_url_https': 'https://pbs.twimg.com/profile_images/776043768952872960/RWdDZPwn_normal.jpg', 'profile_banner_url': 'https://pbs.twimg.com/profile_banners/335988347/1529685894', 'profile_link_color': '19CF86', 'profile_sidebar_border_color': 'FFFFFF', 'profile_sidebar_fill_color': 'E8EAEB', 'profile_text_color': '333333', 'profile_use_background_image': False, 'has_extended_profile': False, 'default_profile': False, 'default_profile_image': False, 'following': False, 'follow_request_sent': False, 'notifications': False, 'translator_type': 'none'}, id=335988347, id_str='335988347', name='WagonerCountyAT', screen_name='WagonerCountyAT', location='Wagoner, Oklahoma', description='Follow us for the latest news in Wagoner County.', url='https://t.co/Jq30G2lpwU', entities={'url': {'urls': [{'url': 'https://t.co/Jq30G2lpwU', 'expanded_url': 'http://wagonercountyAT.com', 'display_url': 'wagonercountyAT.com', 'indices': [0, 23]}]}, 'description': {'urls': []}}, protected=False, followers_count=404, friends_count=77, listed_count=5, created_at=datetime.datetime(2011, 7, 15, 15, 31, 33), favourites_count=4, utc_offset=None, time_zone=None, geo_enabled=False, verified=False, statuses_count=9987, lang=None, contributors_enabled=False, is_translator=False, is_translation_enabled=False, profile_background_color='C0DEED', profile_background_image_url='http://abs.twimg.com/images/themes/theme1/bg.png', profile_background_image_url_https='https://abs.twimg.com/images/themes/theme1/bg.png', profile_background_tile=False, profile_image_url='http://pbs.twimg.com/profile_images/776043768952872960/RWdDZPwn_normal.jpg', profile_image_url_https='https://pbs.twimg.com/profile_images/776043768952872960/RWdDZPwn_normal.jpg', profile_banner_url='https://pbs.twimg.com/profile_banners/335988347/1529685894', profile_link_color='19CF86', profile_sidebar_border_color='FFFFFF', profile_sidebar_fill_color='E8EAEB', profile_text_color='333333', profile_use_background_image=False, has_extended_profile=False, default_profile=False, default_profile_image=False, following=False, follow_request_sent=False, notifications=False, translator_type='none'), geo=None, coordinates=None, place=None, contributors=None, is_quote_status=False, retweet_count=0, favorite_count=0, favorited=False, retweeted=False, possibly_sensitive=False, lang='en') \n",
      "\n",
      ".....................................\n",
      "\n",
      "Status(_api=<tweepy.api.API object at 0x0000022CE501E888>, _json={'created_at': 'Thu Oct 29 14:22:01 +0000 2020', 'id': 1321819583246929921, 'id_str': '1321819583246929921', 'full_text': 'The number of daily new cases also set a record, with 1,270 people testing positive for the virus, and the 189 deaths recorded from COVID-19 in October make it by far the deadliest month of the pandemic to date in the state. https://t.co/9UG4IOozzK', 'truncated': False, 'display_text_range': [0, 248], 'entities': {'hashtags': [], 'symbols': [], 'user_mentions': [], 'urls': [{'url': 'https://t.co/9UG4IOozzK', 'expanded_url': 'https://siouxcityjournal.com/news/state-and-regional/south-dakota/south-dakota-sees-record-virus-hospitalizations-for-4th-straight-day/article_aba665bb-7abd-5399-9170-bc7507f71aed.html#utm_campaign=blox&utm_source=twitter&utm_medium=social', 'display_url': 'siouxcityjournal.com/news/state-and…', 'indices': [225, 248]}]}, 'metadata': {'iso_language_code': 'en', 'result_type': 'recent'}, 'source': '<a href=\"https://www.townnews.com/\" rel=\"nofollow\">BLOX CMS</a>', 'in_reply_to_status_id': None, 'in_reply_to_status_id_str': None, 'in_reply_to_user_id': None, 'in_reply_to_user_id_str': None, 'in_reply_to_screen_name': None, 'user': {'id': 12663042, 'id_str': '12663042', 'name': 'Sioux City Journal', 'screen_name': 'scj', 'location': 'Sioux City, Iowa', 'description': 'Home of the Sioux City Journal in #SiouxCity, Iowa. Serving readers since 1864. Send us your photos, opinions, tips and suggestions. Reach us at 712-293-4250.', 'url': 'http://t.co/LPCyWYwBG3', 'entities': {'url': {'urls': [{'url': 'http://t.co/LPCyWYwBG3', 'expanded_url': 'http://www.siouxcityjournal.com', 'display_url': 'siouxcityjournal.com', 'indices': [0, 22]}]}, 'description': {'urls': []}}, 'protected': False, 'followers_count': 27151, 'friends_count': 804, 'listed_count': 430, 'created_at': 'Thu Jan 24 23:46:25 +0000 2008', 'favourites_count': 1397, 'utc_offset': None, 'time_zone': None, 'geo_enabled': True, 'verified': True, 'statuses_count': 178884, 'lang': None, 'contributors_enabled': False, 'is_translator': False, 'is_translation_enabled': False, 'profile_background_color': '709397', 'profile_background_image_url': 'http://abs.twimg.com/images/themes/theme6/bg.gif', 'profile_background_image_url_https': 'https://abs.twimg.com/images/themes/theme6/bg.gif', 'profile_background_tile': False, 'profile_image_url': 'http://pbs.twimg.com/profile_images/847200464684728320/cWY0UMGU_normal.jpg', 'profile_image_url_https': 'https://pbs.twimg.com/profile_images/847200464684728320/cWY0UMGU_normal.jpg', 'profile_banner_url': 'https://pbs.twimg.com/profile_banners/12663042/1399993964', 'profile_link_color': 'FF3300', 'profile_sidebar_border_color': '86A4A6', 'profile_sidebar_fill_color': 'A0C5C7', 'profile_text_color': '333333', 'profile_use_background_image': True, 'has_extended_profile': True, 'default_profile': False, 'default_profile_image': False, 'following': False, 'follow_request_sent': False, 'notifications': False, 'translator_type': 'none'}, 'geo': None, 'coordinates': None, 'place': None, 'contributors': None, 'is_quote_status': False, 'retweet_count': 1, 'favorite_count': 0, 'favorited': False, 'retweeted': False, 'possibly_sensitive': False, 'lang': 'en'}, created_at=datetime.datetime(2020, 10, 29, 14, 22, 1), id=1321819583246929921, id_str='1321819583246929921', full_text='The number of daily new cases also set a record, with 1,270 people testing positive for the virus, and the 189 deaths recorded from COVID-19 in October make it by far the deadliest month of the pandemic to date in the state. https://t.co/9UG4IOozzK', truncated=False, display_text_range=[0, 248], entities={'hashtags': [], 'symbols': [], 'user_mentions': [], 'urls': [{'url': 'https://t.co/9UG4IOozzK', 'expanded_url': 'https://siouxcityjournal.com/news/state-and-regional/south-dakota/south-dakota-sees-record-virus-hospitalizations-for-4th-straight-day/article_aba665bb-7abd-5399-9170-bc7507f71aed.html#utm_campaign=blox&utm_source=twitter&utm_medium=social', 'display_url': 'siouxcityjournal.com/news/state-and…', 'indices': [225, 248]}]}, metadata={'iso_language_code': 'en', 'result_type': 'recent'}, source='BLOX CMS', source_url='https://www.townnews.com/', in_reply_to_status_id=None, in_reply_to_status_id_str=None, in_reply_to_user_id=None, in_reply_to_user_id_str=None, in_reply_to_screen_name=None, author=User(_api=<tweepy.api.API object at 0x0000022CE501E888>, _json={'id': 12663042, 'id_str': '12663042', 'name': 'Sioux City Journal', 'screen_name': 'scj', 'location': 'Sioux City, Iowa', 'description': 'Home of the Sioux City Journal in #SiouxCity, Iowa. Serving readers since 1864. Send us your photos, opinions, tips and suggestions. Reach us at 712-293-4250.', 'url': 'http://t.co/LPCyWYwBG3', 'entities': {'url': {'urls': [{'url': 'http://t.co/LPCyWYwBG3', 'expanded_url': 'http://www.siouxcityjournal.com', 'display_url': 'siouxcityjournal.com', 'indices': [0, 22]}]}, 'description': {'urls': []}}, 'protected': False, 'followers_count': 27151, 'friends_count': 804, 'listed_count': 430, 'created_at': 'Thu Jan 24 23:46:25 +0000 2008', 'favourites_count': 1397, 'utc_offset': None, 'time_zone': None, 'geo_enabled': True, 'verified': True, 'statuses_count': 178884, 'lang': None, 'contributors_enabled': False, 'is_translator': False, 'is_translation_enabled': False, 'profile_background_color': '709397', 'profile_background_image_url': 'http://abs.twimg.com/images/themes/theme6/bg.gif', 'profile_background_image_url_https': 'https://abs.twimg.com/images/themes/theme6/bg.gif', 'profile_background_tile': False, 'profile_image_url': 'http://pbs.twimg.com/profile_images/847200464684728320/cWY0UMGU_normal.jpg', 'profile_image_url_https': 'https://pbs.twimg.com/profile_images/847200464684728320/cWY0UMGU_normal.jpg', 'profile_banner_url': 'https://pbs.twimg.com/profile_banners/12663042/1399993964', 'profile_link_color': 'FF3300', 'profile_sidebar_border_color': '86A4A6', 'profile_sidebar_fill_color': 'A0C5C7', 'profile_text_color': '333333', 'profile_use_background_image': True, 'has_extended_profile': True, 'default_profile': False, 'default_profile_image': False, 'following': False, 'follow_request_sent': False, 'notifications': False, 'translator_type': 'none'}, id=12663042, id_str='12663042', name='Sioux City Journal', screen_name='scj', location='Sioux City, Iowa', description='Home of the Sioux City Journal in #SiouxCity, Iowa. Serving readers since 1864. Send us your photos, opinions, tips and suggestions. Reach us at 712-293-4250.', url='http://t.co/LPCyWYwBG3', entities={'url': {'urls': [{'url': 'http://t.co/LPCyWYwBG3', 'expanded_url': 'http://www.siouxcityjournal.com', 'display_url': 'siouxcityjournal.com', 'indices': [0, 22]}]}, 'description': {'urls': []}}, protected=False, followers_count=27151, friends_count=804, listed_count=430, created_at=datetime.datetime(2008, 1, 24, 23, 46, 25), favourites_count=1397, utc_offset=None, time_zone=None, geo_enabled=True, verified=True, statuses_count=178884, lang=None, contributors_enabled=False, is_translator=False, is_translation_enabled=False, profile_background_color='709397', profile_background_image_url='http://abs.twimg.com/images/themes/theme6/bg.gif', profile_background_image_url_https='https://abs.twimg.com/images/themes/theme6/bg.gif', profile_background_tile=False, profile_image_url='http://pbs.twimg.com/profile_images/847200464684728320/cWY0UMGU_normal.jpg', profile_image_url_https='https://pbs.twimg.com/profile_images/847200464684728320/cWY0UMGU_normal.jpg', profile_banner_url='https://pbs.twimg.com/profile_banners/12663042/1399993964', profile_link_color='FF3300', profile_sidebar_border_color='86A4A6', profile_sidebar_fill_color='A0C5C7', profile_text_color='333333', profile_use_background_image=True, has_extended_profile=True, default_profile=False, default_profile_image=False, following=False, follow_request_sent=False, notifications=False, translator_type='none'), user=User(_api=<tweepy.api.API object at 0x0000022CE501E888>, _json={'id': 12663042, 'id_str': '12663042', 'name': 'Sioux City Journal', 'screen_name': 'scj', 'location': 'Sioux City, Iowa', 'description': 'Home of the Sioux City Journal in #SiouxCity, Iowa. Serving readers since 1864. Send us your photos, opinions, tips and suggestions. Reach us at 712-293-4250.', 'url': 'http://t.co/LPCyWYwBG3', 'entities': {'url': {'urls': [{'url': 'http://t.co/LPCyWYwBG3', 'expanded_url': 'http://www.siouxcityjournal.com', 'display_url': 'siouxcityjournal.com', 'indices': [0, 22]}]}, 'description': {'urls': []}}, 'protected': False, 'followers_count': 27151, 'friends_count': 804, 'listed_count': 430, 'created_at': 'Thu Jan 24 23:46:25 +0000 2008', 'favourites_count': 1397, 'utc_offset': None, 'time_zone': None, 'geo_enabled': True, 'verified': True, 'statuses_count': 178884, 'lang': None, 'contributors_enabled': False, 'is_translator': False, 'is_translation_enabled': False, 'profile_background_color': '709397', 'profile_background_image_url': 'http://abs.twimg.com/images/themes/theme6/bg.gif', 'profile_background_image_url_https': 'https://abs.twimg.com/images/themes/theme6/bg.gif', 'profile_background_tile': False, 'profile_image_url': 'http://pbs.twimg.com/profile_images/847200464684728320/cWY0UMGU_normal.jpg', 'profile_image_url_https': 'https://pbs.twimg.com/profile_images/847200464684728320/cWY0UMGU_normal.jpg', 'profile_banner_url': 'https://pbs.twimg.com/profile_banners/12663042/1399993964', 'profile_link_color': 'FF3300', 'profile_sidebar_border_color': '86A4A6', 'profile_sidebar_fill_color': 'A0C5C7', 'profile_text_color': '333333', 'profile_use_background_image': True, 'has_extended_profile': True, 'default_profile': False, 'default_profile_image': False, 'following': False, 'follow_request_sent': False, 'notifications': False, 'translator_type': 'none'}, id=12663042, id_str='12663042', name='Sioux City Journal', screen_name='scj', location='Sioux City, Iowa', description='Home of the Sioux City Journal in #SiouxCity, Iowa. Serving readers since 1864. Send us your photos, opinions, tips and suggestions. Reach us at 712-293-4250.', url='http://t.co/LPCyWYwBG3', entities={'url': {'urls': [{'url': 'http://t.co/LPCyWYwBG3', 'expanded_url': 'http://www.siouxcityjournal.com', 'display_url': 'siouxcityjournal.com', 'indices': [0, 22]}]}, 'description': {'urls': []}}, protected=False, followers_count=27151, friends_count=804, listed_count=430, created_at=datetime.datetime(2008, 1, 24, 23, 46, 25), favourites_count=1397, utc_offset=None, time_zone=None, geo_enabled=True, verified=True, statuses_count=178884, lang=None, contributors_enabled=False, is_translator=False, is_translation_enabled=False, profile_background_color='709397', profile_background_image_url='http://abs.twimg.com/images/themes/theme6/bg.gif', profile_background_image_url_https='https://abs.twimg.com/images/themes/theme6/bg.gif', profile_background_tile=False, profile_image_url='http://pbs.twimg.com/profile_images/847200464684728320/cWY0UMGU_normal.jpg', profile_image_url_https='https://pbs.twimg.com/profile_images/847200464684728320/cWY0UMGU_normal.jpg', profile_banner_url='https://pbs.twimg.com/profile_banners/12663042/1399993964', profile_link_color='FF3300', profile_sidebar_border_color='86A4A6', profile_sidebar_fill_color='A0C5C7', profile_text_color='333333', profile_use_background_image=True, has_extended_profile=True, default_profile=False, default_profile_image=False, following=False, follow_request_sent=False, notifications=False, translator_type='none'), geo=None, coordinates=None, place=None, contributors=None, is_quote_status=False, retweet_count=1, favorite_count=0, favorited=False, retweeted=False, possibly_sensitive=False, lang='en') \n",
      "\n",
      ".....................................\n",
      "\n",
      "Status(_api=<tweepy.api.API object at 0x0000022CE501E888>, _json={'created_at': 'Wed Oct 28 16:10:07 +0000 2020', 'id': 1321484400287240197, 'id_str': '1321484400287240197', 'full_text': 'San Miguel County has seen a steady rise in positive coronavirus cases throughout October, with 17 new cases Friday through Sunday alone. By contrast, the county reported just 19 cases for the entire month of September. My latest: https://t.co/HfLIP9JL9J https://t.co/1pEYmtHBH5', 'truncated': False, 'display_text_range': [0, 254], 'entities': {'hashtags': [], 'symbols': [], 'user_mentions': [], 'urls': [{'url': 'https://t.co/HfLIP9JL9J', 'expanded_url': 'https://www.lasvegasoptic.com/content/city-manager-tests-positive-covid-19', 'display_url': 'lasvegasoptic.com/content/city-m…', 'indices': [231, 254]}], 'media': [{'id': 1321484398995382274, 'id_str': '1321484398995382274', 'indices': [255, 278], 'media_url': 'http://pbs.twimg.com/media/ElbbDzJXIAIzGXT.jpg', 'media_url_https': 'https://pbs.twimg.com/media/ElbbDzJXIAIzGXT.jpg', 'url': 'https://t.co/1pEYmtHBH5', 'display_url': 'pic.twitter.com/1pEYmtHBH5', 'expanded_url': 'https://twitter.com/ryanmlowery/status/1321484400287240197/photo/1', 'type': 'photo', 'sizes': {'thumb': {'w': 150, 'h': 150, 'resize': 'crop'}, 'medium': {'w': 938, 'h': 586, 'resize': 'fit'}, 'large': {'w': 938, 'h': 586, 'resize': 'fit'}, 'small': {'w': 680, 'h': 425, 'resize': 'fit'}}}]}, 'extended_entities': {'media': [{'id': 1321484398995382274, 'id_str': '1321484398995382274', 'indices': [255, 278], 'media_url': 'http://pbs.twimg.com/media/ElbbDzJXIAIzGXT.jpg', 'media_url_https': 'https://pbs.twimg.com/media/ElbbDzJXIAIzGXT.jpg', 'url': 'https://t.co/1pEYmtHBH5', 'display_url': 'pic.twitter.com/1pEYmtHBH5', 'expanded_url': 'https://twitter.com/ryanmlowery/status/1321484400287240197/photo/1', 'type': 'photo', 'sizes': {'thumb': {'w': 150, 'h': 150, 'resize': 'crop'}, 'medium': {'w': 938, 'h': 586, 'resize': 'fit'}, 'large': {'w': 938, 'h': 586, 'resize': 'fit'}, 'small': {'w': 680, 'h': 425, 'resize': 'fit'}}}]}, 'metadata': {'iso_language_code': 'en', 'result_type': 'recent'}, 'source': '<a href=\"https://buffer.com\" rel=\"nofollow\">Buffer</a>', 'in_reply_to_status_id': None, 'in_reply_to_status_id_str': None, 'in_reply_to_user_id': None, 'in_reply_to_user_id_str': None, 'in_reply_to_screen_name': None, 'user': {'id': 26964222, 'id_str': '26964222', 'name': 'Ryan Lowery', 'screen_name': 'ryanmlowery', 'location': 'Albuquerque, NM', 'description': 'Writer. Coffee fiend. Freelance investigative journalist covering criminal justice and #OpenGov, often for the @lasvegasoptic. VP: @SPJRioGrande. 📰 ✊', 'url': 'https://t.co/SRRlodBe2j', 'entities': {'url': {'urls': [{'url': 'https://t.co/SRRlodBe2j', 'expanded_url': 'http://ryanlowery.com', 'display_url': 'ryanlowery.com', 'indices': [0, 23]}]}, 'description': {'urls': []}}, 'protected': False, 'followers_count': 1900, 'friends_count': 593, 'listed_count': 230, 'created_at': 'Fri Mar 27 06:42:46 +0000 2009', 'favourites_count': 20013, 'utc_offset': None, 'time_zone': None, 'geo_enabled': False, 'verified': False, 'statuses_count': 51582, 'lang': None, 'contributors_enabled': False, 'is_translator': False, 'is_translation_enabled': False, 'profile_background_color': '334A61', 'profile_background_image_url': 'http://abs.twimg.com/images/themes/theme9/bg.gif', 'profile_background_image_url_https': 'https://abs.twimg.com/images/themes/theme9/bg.gif', 'profile_background_tile': False, 'profile_image_url': 'http://pbs.twimg.com/profile_images/1273477634903601153/XQtQmwqc_normal.jpg', 'profile_image_url_https': 'https://pbs.twimg.com/profile_images/1273477634903601153/XQtQmwqc_normal.jpg', 'profile_banner_url': 'https://pbs.twimg.com/profile_banners/26964222/1581810904', 'profile_link_color': '4D6684', 'profile_sidebar_border_color': 'FFFFFF', 'profile_sidebar_fill_color': 'D1D496', 'profile_text_color': '6B6B6B', 'profile_use_background_image': True, 'has_extended_profile': True, 'default_profile': False, 'default_profile_image': False, 'following': False, 'follow_request_sent': False, 'notifications': False, 'translator_type': 'none'}, 'geo': None, 'coordinates': None, 'place': None, 'contributors': None, 'is_quote_status': False, 'retweet_count': 0, 'favorite_count': 2, 'favorited': False, 'retweeted': False, 'possibly_sensitive': False, 'lang': 'en'}, created_at=datetime.datetime(2020, 10, 28, 16, 10, 7), id=1321484400287240197, id_str='1321484400287240197', full_text='San Miguel County has seen a steady rise in positive coronavirus cases throughout October, with 17 new cases Friday through Sunday alone. By contrast, the county reported just 19 cases for the entire month of September. My latest: https://t.co/HfLIP9JL9J https://t.co/1pEYmtHBH5', truncated=False, display_text_range=[0, 254], entities={'hashtags': [], 'symbols': [], 'user_mentions': [], 'urls': [{'url': 'https://t.co/HfLIP9JL9J', 'expanded_url': 'https://www.lasvegasoptic.com/content/city-manager-tests-positive-covid-19', 'display_url': 'lasvegasoptic.com/content/city-m…', 'indices': [231, 254]}], 'media': [{'id': 1321484398995382274, 'id_str': '1321484398995382274', 'indices': [255, 278], 'media_url': 'http://pbs.twimg.com/media/ElbbDzJXIAIzGXT.jpg', 'media_url_https': 'https://pbs.twimg.com/media/ElbbDzJXIAIzGXT.jpg', 'url': 'https://t.co/1pEYmtHBH5', 'display_url': 'pic.twitter.com/1pEYmtHBH5', 'expanded_url': 'https://twitter.com/ryanmlowery/status/1321484400287240197/photo/1', 'type': 'photo', 'sizes': {'thumb': {'w': 150, 'h': 150, 'resize': 'crop'}, 'medium': {'w': 938, 'h': 586, 'resize': 'fit'}, 'large': {'w': 938, 'h': 586, 'resize': 'fit'}, 'small': {'w': 680, 'h': 425, 'resize': 'fit'}}}]}, extended_entities={'media': [{'id': 1321484398995382274, 'id_str': '1321484398995382274', 'indices': [255, 278], 'media_url': 'http://pbs.twimg.com/media/ElbbDzJXIAIzGXT.jpg', 'media_url_https': 'https://pbs.twimg.com/media/ElbbDzJXIAIzGXT.jpg', 'url': 'https://t.co/1pEYmtHBH5', 'display_url': 'pic.twitter.com/1pEYmtHBH5', 'expanded_url': 'https://twitter.com/ryanmlowery/status/1321484400287240197/photo/1', 'type': 'photo', 'sizes': {'thumb': {'w': 150, 'h': 150, 'resize': 'crop'}, 'medium': {'w': 938, 'h': 586, 'resize': 'fit'}, 'large': {'w': 938, 'h': 586, 'resize': 'fit'}, 'small': {'w': 680, 'h': 425, 'resize': 'fit'}}}]}, metadata={'iso_language_code': 'en', 'result_type': 'recent'}, source='Buffer', source_url='https://buffer.com', in_reply_to_status_id=None, in_reply_to_status_id_str=None, in_reply_to_user_id=None, in_reply_to_user_id_str=None, in_reply_to_screen_name=None, author=User(_api=<tweepy.api.API object at 0x0000022CE501E888>, _json={'id': 26964222, 'id_str': '26964222', 'name': 'Ryan Lowery', 'screen_name': 'ryanmlowery', 'location': 'Albuquerque, NM', 'description': 'Writer. Coffee fiend. Freelance investigative journalist covering criminal justice and #OpenGov, often for the @lasvegasoptic. VP: @SPJRioGrande. 📰 ✊', 'url': 'https://t.co/SRRlodBe2j', 'entities': {'url': {'urls': [{'url': 'https://t.co/SRRlodBe2j', 'expanded_url': 'http://ryanlowery.com', 'display_url': 'ryanlowery.com', 'indices': [0, 23]}]}, 'description': {'urls': []}}, 'protected': False, 'followers_count': 1900, 'friends_count': 593, 'listed_count': 230, 'created_at': 'Fri Mar 27 06:42:46 +0000 2009', 'favourites_count': 20013, 'utc_offset': None, 'time_zone': None, 'geo_enabled': False, 'verified': False, 'statuses_count': 51582, 'lang': None, 'contributors_enabled': False, 'is_translator': False, 'is_translation_enabled': False, 'profile_background_color': '334A61', 'profile_background_image_url': 'http://abs.twimg.com/images/themes/theme9/bg.gif', 'profile_background_image_url_https': 'https://abs.twimg.com/images/themes/theme9/bg.gif', 'profile_background_tile': False, 'profile_image_url': 'http://pbs.twimg.com/profile_images/1273477634903601153/XQtQmwqc_normal.jpg', 'profile_image_url_https': 'https://pbs.twimg.com/profile_images/1273477634903601153/XQtQmwqc_normal.jpg', 'profile_banner_url': 'https://pbs.twimg.com/profile_banners/26964222/1581810904', 'profile_link_color': '4D6684', 'profile_sidebar_border_color': 'FFFFFF', 'profile_sidebar_fill_color': 'D1D496', 'profile_text_color': '6B6B6B', 'profile_use_background_image': True, 'has_extended_profile': True, 'default_profile': False, 'default_profile_image': False, 'following': False, 'follow_request_sent': False, 'notifications': False, 'translator_type': 'none'}, id=26964222, id_str='26964222', name='Ryan Lowery', screen_name='ryanmlowery', location='Albuquerque, NM', description='Writer. Coffee fiend. Freelance investigative journalist covering criminal justice and #OpenGov, often for the @lasvegasoptic. VP: @SPJRioGrande. 📰 ✊', url='https://t.co/SRRlodBe2j', entities={'url': {'urls': [{'url': 'https://t.co/SRRlodBe2j', 'expanded_url': 'http://ryanlowery.com', 'display_url': 'ryanlowery.com', 'indices': [0, 23]}]}, 'description': {'urls': []}}, protected=False, followers_count=1900, friends_count=593, listed_count=230, created_at=datetime.datetime(2009, 3, 27, 6, 42, 46), favourites_count=20013, utc_offset=None, time_zone=None, geo_enabled=False, verified=False, statuses_count=51582, lang=None, contributors_enabled=False, is_translator=False, is_translation_enabled=False, profile_background_color='334A61', profile_background_image_url='http://abs.twimg.com/images/themes/theme9/bg.gif', profile_background_image_url_https='https://abs.twimg.com/images/themes/theme9/bg.gif', profile_background_tile=False, profile_image_url='http://pbs.twimg.com/profile_images/1273477634903601153/XQtQmwqc_normal.jpg', profile_image_url_https='https://pbs.twimg.com/profile_images/1273477634903601153/XQtQmwqc_normal.jpg', profile_banner_url='https://pbs.twimg.com/profile_banners/26964222/1581810904', profile_link_color='4D6684', profile_sidebar_border_color='FFFFFF', profile_sidebar_fill_color='D1D496', profile_text_color='6B6B6B', profile_use_background_image=True, has_extended_profile=True, default_profile=False, default_profile_image=False, following=False, follow_request_sent=False, notifications=False, translator_type='none'), user=User(_api=<tweepy.api.API object at 0x0000022CE501E888>, _json={'id': 26964222, 'id_str': '26964222', 'name': 'Ryan Lowery', 'screen_name': 'ryanmlowery', 'location': 'Albuquerque, NM', 'description': 'Writer. Coffee fiend. Freelance investigative journalist covering criminal justice and #OpenGov, often for the @lasvegasoptic. VP: @SPJRioGrande. 📰 ✊', 'url': 'https://t.co/SRRlodBe2j', 'entities': {'url': {'urls': [{'url': 'https://t.co/SRRlodBe2j', 'expanded_url': 'http://ryanlowery.com', 'display_url': 'ryanlowery.com', 'indices': [0, 23]}]}, 'description': {'urls': []}}, 'protected': False, 'followers_count': 1900, 'friends_count': 593, 'listed_count': 230, 'created_at': 'Fri Mar 27 06:42:46 +0000 2009', 'favourites_count': 20013, 'utc_offset': None, 'time_zone': None, 'geo_enabled': False, 'verified': False, 'statuses_count': 51582, 'lang': None, 'contributors_enabled': False, 'is_translator': False, 'is_translation_enabled': False, 'profile_background_color': '334A61', 'profile_background_image_url': 'http://abs.twimg.com/images/themes/theme9/bg.gif', 'profile_background_image_url_https': 'https://abs.twimg.com/images/themes/theme9/bg.gif', 'profile_background_tile': False, 'profile_image_url': 'http://pbs.twimg.com/profile_images/1273477634903601153/XQtQmwqc_normal.jpg', 'profile_image_url_https': 'https://pbs.twimg.com/profile_images/1273477634903601153/XQtQmwqc_normal.jpg', 'profile_banner_url': 'https://pbs.twimg.com/profile_banners/26964222/1581810904', 'profile_link_color': '4D6684', 'profile_sidebar_border_color': 'FFFFFF', 'profile_sidebar_fill_color': 'D1D496', 'profile_text_color': '6B6B6B', 'profile_use_background_image': True, 'has_extended_profile': True, 'default_profile': False, 'default_profile_image': False, 'following': False, 'follow_request_sent': False, 'notifications': False, 'translator_type': 'none'}, id=26964222, id_str='26964222', name='Ryan Lowery', screen_name='ryanmlowery', location='Albuquerque, NM', description='Writer. Coffee fiend. Freelance investigative journalist covering criminal justice and #OpenGov, often for the @lasvegasoptic. VP: @SPJRioGrande. 📰 ✊', url='https://t.co/SRRlodBe2j', entities={'url': {'urls': [{'url': 'https://t.co/SRRlodBe2j', 'expanded_url': 'http://ryanlowery.com', 'display_url': 'ryanlowery.com', 'indices': [0, 23]}]}, 'description': {'urls': []}}, protected=False, followers_count=1900, friends_count=593, listed_count=230, created_at=datetime.datetime(2009, 3, 27, 6, 42, 46), favourites_count=20013, utc_offset=None, time_zone=None, geo_enabled=False, verified=False, statuses_count=51582, lang=None, contributors_enabled=False, is_translator=False, is_translation_enabled=False, profile_background_color='334A61', profile_background_image_url='http://abs.twimg.com/images/themes/theme9/bg.gif', profile_background_image_url_https='https://abs.twimg.com/images/themes/theme9/bg.gif', profile_background_tile=False, profile_image_url='http://pbs.twimg.com/profile_images/1273477634903601153/XQtQmwqc_normal.jpg', profile_image_url_https='https://pbs.twimg.com/profile_images/1273477634903601153/XQtQmwqc_normal.jpg', profile_banner_url='https://pbs.twimg.com/profile_banners/26964222/1581810904', profile_link_color='4D6684', profile_sidebar_border_color='FFFFFF', profile_sidebar_fill_color='D1D496', profile_text_color='6B6B6B', profile_use_background_image=True, has_extended_profile=True, default_profile=False, default_profile_image=False, following=False, follow_request_sent=False, notifications=False, translator_type='none'), geo=None, coordinates=None, place=None, contributors=None, is_quote_status=False, retweet_count=0, favorite_count=2, favorited=False, retweeted=False, possibly_sensitive=False, lang='en') \n",
      "\n",
      ".....................................\n",
      "\n",
      "Status(_api=<tweepy.api.API object at 0x0000022CE501E888>, _json={'created_at': 'Tue Oct 27 18:14:02 +0000 2020', 'id': 1321153196916641792, 'id_str': '1321153196916641792', 'full_text': '#Gators football adds six more COVID-19 cases in weekly update. \\n\\nIn total 37 total positive for the month of October. \\n\\n https://t.co/U9fY49fG78 https://t.co/slEBOFQs7W', 'truncated': False, 'display_text_range': [0, 145], 'entities': {'hashtags': [{'text': 'Gators', 'indices': [0, 7]}], 'symbols': [], 'user_mentions': [], 'urls': [{'url': 'https://t.co/U9fY49fG78', 'expanded_url': 'https://www.wcjb.com/2020/10/27/florida-gators-add-six-new-covid-19-cases-in-weekly-update/', 'display_url': 'wcjb.com/2020/10/27/flo…', 'indices': [122, 145]}], 'media': [{'id': 1321153193687089164, 'id_str': '1321153193687089164', 'indices': [146, 169], 'media_url': 'http://pbs.twimg.com/media/ElWt1HOXgAwIJXr.jpg', 'media_url_https': 'https://pbs.twimg.com/media/ElWt1HOXgAwIJXr.jpg', 'url': 'https://t.co/slEBOFQs7W', 'display_url': 'pic.twitter.com/slEBOFQs7W', 'expanded_url': 'https://twitter.com/JacquieFran_/status/1321153196916641792/photo/1', 'type': 'photo', 'sizes': {'thumb': {'w': 150, 'h': 150, 'resize': 'crop'}, 'small': {'w': 680, 'h': 383, 'resize': 'fit'}, 'large': {'w': 1200, 'h': 675, 'resize': 'fit'}, 'medium': {'w': 1200, 'h': 675, 'resize': 'fit'}}}]}, 'extended_entities': {'media': [{'id': 1321153193687089164, 'id_str': '1321153193687089164', 'indices': [146, 169], 'media_url': 'http://pbs.twimg.com/media/ElWt1HOXgAwIJXr.jpg', 'media_url_https': 'https://pbs.twimg.com/media/ElWt1HOXgAwIJXr.jpg', 'url': 'https://t.co/slEBOFQs7W', 'display_url': 'pic.twitter.com/slEBOFQs7W', 'expanded_url': 'https://twitter.com/JacquieFran_/status/1321153196916641792/photo/1', 'type': 'photo', 'sizes': {'thumb': {'w': 150, 'h': 150, 'resize': 'crop'}, 'small': {'w': 680, 'h': 383, 'resize': 'fit'}, 'large': {'w': 1200, 'h': 675, 'resize': 'fit'}, 'medium': {'w': 1200, 'h': 675, 'resize': 'fit'}}}]}, 'metadata': {'iso_language_code': 'en', 'result_type': 'recent'}, 'source': '<a href=\"http://www.socialnewsdesk.com\" rel=\"nofollow\">SocialNewsDesk</a>', 'in_reply_to_status_id': None, 'in_reply_to_status_id_str': None, 'in_reply_to_user_id': None, 'in_reply_to_user_id_str': None, 'in_reply_to_screen_name': None, 'user': {'id': 42725416, 'id_str': '42725416', 'name': 'Jacquie Franciulli', 'screen_name': 'JacquieFran_', 'location': 'Gainesville, FL', 'description': 'Award-winning Digital EP/multimedia journalist @WCJB20 | I also write about #Gators football/basketball on 1stand10 and @SI_AllGators |', 'url': 'https://t.co/hEeyUla8mG', 'entities': {'url': {'urls': [{'url': 'https://t.co/hEeyUla8mG', 'expanded_url': 'https://www.wcjb.com/', 'display_url': 'wcjb.com', 'indices': [0, 23]}]}, 'description': {'urls': []}}, 'protected': False, 'followers_count': 6025, 'friends_count': 995, 'listed_count': 150, 'created_at': 'Tue May 26 21:27:29 +0000 2009', 'favourites_count': 4056, 'utc_offset': None, 'time_zone': None, 'geo_enabled': False, 'verified': False, 'statuses_count': 35615, 'lang': None, 'contributors_enabled': False, 'is_translator': False, 'is_translation_enabled': False, 'profile_background_color': '131516', 'profile_background_image_url': 'http://abs.twimg.com/images/themes/theme14/bg.gif', 'profile_background_image_url_https': 'https://abs.twimg.com/images/themes/theme14/bg.gif', 'profile_background_tile': True, 'profile_image_url': 'http://pbs.twimg.com/profile_images/1297235216826798081/0uK_idiC_normal.jpg', 'profile_image_url_https': 'https://pbs.twimg.com/profile_images/1297235216826798081/0uK_idiC_normal.jpg', 'profile_banner_url': 'https://pbs.twimg.com/profile_banners/42725416/1460668170', 'profile_link_color': '003899', 'profile_sidebar_border_color': 'EEEEEE', 'profile_sidebar_fill_color': 'EFEFEF', 'profile_text_color': '333333', 'profile_use_background_image': True, 'has_extended_profile': True, 'default_profile': False, 'default_profile_image': False, 'following': False, 'follow_request_sent': False, 'notifications': False, 'translator_type': 'none'}, 'geo': None, 'coordinates': None, 'place': None, 'contributors': None, 'is_quote_status': False, 'retweet_count': 0, 'favorite_count': 2, 'favorited': False, 'retweeted': False, 'possibly_sensitive': False, 'lang': 'en'}, created_at=datetime.datetime(2020, 10, 27, 18, 14, 2), id=1321153196916641792, id_str='1321153196916641792', full_text='#Gators football adds six more COVID-19 cases in weekly update. \\n\\nIn total 37 total positive for the month of October. \\n\\n https://t.co/U9fY49fG78 https://t.co/slEBOFQs7W', truncated=False, display_text_range=[0, 145], entities={'hashtags': [{'text': 'Gators', 'indices': [0, 7]}], 'symbols': [], 'user_mentions': [], 'urls': [{'url': 'https://t.co/U9fY49fG78', 'expanded_url': 'https://www.wcjb.com/2020/10/27/florida-gators-add-six-new-covid-19-cases-in-weekly-update/', 'display_url': 'wcjb.com/2020/10/27/flo…', 'indices': [122, 145]}], 'media': [{'id': 1321153193687089164, 'id_str': '1321153193687089164', 'indices': [146, 169], 'media_url': 'http://pbs.twimg.com/media/ElWt1HOXgAwIJXr.jpg', 'media_url_https': 'https://pbs.twimg.com/media/ElWt1HOXgAwIJXr.jpg', 'url': 'https://t.co/slEBOFQs7W', 'display_url': 'pic.twitter.com/slEBOFQs7W', 'expanded_url': 'https://twitter.com/JacquieFran_/status/1321153196916641792/photo/1', 'type': 'photo', 'sizes': {'thumb': {'w': 150, 'h': 150, 'resize': 'crop'}, 'small': {'w': 680, 'h': 383, 'resize': 'fit'}, 'large': {'w': 1200, 'h': 675, 'resize': 'fit'}, 'medium': {'w': 1200, 'h': 675, 'resize': 'fit'}}}]}, extended_entities={'media': [{'id': 1321153193687089164, 'id_str': '1321153193687089164', 'indices': [146, 169], 'media_url': 'http://pbs.twimg.com/media/ElWt1HOXgAwIJXr.jpg', 'media_url_https': 'https://pbs.twimg.com/media/ElWt1HOXgAwIJXr.jpg', 'url': 'https://t.co/slEBOFQs7W', 'display_url': 'pic.twitter.com/slEBOFQs7W', 'expanded_url': 'https://twitter.com/JacquieFran_/status/1321153196916641792/photo/1', 'type': 'photo', 'sizes': {'thumb': {'w': 150, 'h': 150, 'resize': 'crop'}, 'small': {'w': 680, 'h': 383, 'resize': 'fit'}, 'large': {'w': 1200, 'h': 675, 'resize': 'fit'}, 'medium': {'w': 1200, 'h': 675, 'resize': 'fit'}}}]}, metadata={'iso_language_code': 'en', 'result_type': 'recent'}, source='SocialNewsDesk', source_url='http://www.socialnewsdesk.com', in_reply_to_status_id=None, in_reply_to_status_id_str=None, in_reply_to_user_id=None, in_reply_to_user_id_str=None, in_reply_to_screen_name=None, author=User(_api=<tweepy.api.API object at 0x0000022CE501E888>, _json={'id': 42725416, 'id_str': '42725416', 'name': 'Jacquie Franciulli', 'screen_name': 'JacquieFran_', 'location': 'Gainesville, FL', 'description': 'Award-winning Digital EP/multimedia journalist @WCJB20 | I also write about #Gators football/basketball on 1stand10 and @SI_AllGators |', 'url': 'https://t.co/hEeyUla8mG', 'entities': {'url': {'urls': [{'url': 'https://t.co/hEeyUla8mG', 'expanded_url': 'https://www.wcjb.com/', 'display_url': 'wcjb.com', 'indices': [0, 23]}]}, 'description': {'urls': []}}, 'protected': False, 'followers_count': 6025, 'friends_count': 995, 'listed_count': 150, 'created_at': 'Tue May 26 21:27:29 +0000 2009', 'favourites_count': 4056, 'utc_offset': None, 'time_zone': None, 'geo_enabled': False, 'verified': False, 'statuses_count': 35615, 'lang': None, 'contributors_enabled': False, 'is_translator': False, 'is_translation_enabled': False, 'profile_background_color': '131516', 'profile_background_image_url': 'http://abs.twimg.com/images/themes/theme14/bg.gif', 'profile_background_image_url_https': 'https://abs.twimg.com/images/themes/theme14/bg.gif', 'profile_background_tile': True, 'profile_image_url': 'http://pbs.twimg.com/profile_images/1297235216826798081/0uK_idiC_normal.jpg', 'profile_image_url_https': 'https://pbs.twimg.com/profile_images/1297235216826798081/0uK_idiC_normal.jpg', 'profile_banner_url': 'https://pbs.twimg.com/profile_banners/42725416/1460668170', 'profile_link_color': '003899', 'profile_sidebar_border_color': 'EEEEEE', 'profile_sidebar_fill_color': 'EFEFEF', 'profile_text_color': '333333', 'profile_use_background_image': True, 'has_extended_profile': True, 'default_profile': False, 'default_profile_image': False, 'following': False, 'follow_request_sent': False, 'notifications': False, 'translator_type': 'none'}, id=42725416, id_str='42725416', name='Jacquie Franciulli', screen_name='JacquieFran_', location='Gainesville, FL', description='Award-winning Digital EP/multimedia journalist @WCJB20 | I also write about #Gators football/basketball on 1stand10 and @SI_AllGators |', url='https://t.co/hEeyUla8mG', entities={'url': {'urls': [{'url': 'https://t.co/hEeyUla8mG', 'expanded_url': 'https://www.wcjb.com/', 'display_url': 'wcjb.com', 'indices': [0, 23]}]}, 'description': {'urls': []}}, protected=False, followers_count=6025, friends_count=995, listed_count=150, created_at=datetime.datetime(2009, 5, 26, 21, 27, 29), favourites_count=4056, utc_offset=None, time_zone=None, geo_enabled=False, verified=False, statuses_count=35615, lang=None, contributors_enabled=False, is_translator=False, is_translation_enabled=False, profile_background_color='131516', profile_background_image_url='http://abs.twimg.com/images/themes/theme14/bg.gif', profile_background_image_url_https='https://abs.twimg.com/images/themes/theme14/bg.gif', profile_background_tile=True, profile_image_url='http://pbs.twimg.com/profile_images/1297235216826798081/0uK_idiC_normal.jpg', profile_image_url_https='https://pbs.twimg.com/profile_images/1297235216826798081/0uK_idiC_normal.jpg', profile_banner_url='https://pbs.twimg.com/profile_banners/42725416/1460668170', profile_link_color='003899', profile_sidebar_border_color='EEEEEE', profile_sidebar_fill_color='EFEFEF', profile_text_color='333333', profile_use_background_image=True, has_extended_profile=True, default_profile=False, default_profile_image=False, following=False, follow_request_sent=False, notifications=False, translator_type='none'), user=User(_api=<tweepy.api.API object at 0x0000022CE501E888>, _json={'id': 42725416, 'id_str': '42725416', 'name': 'Jacquie Franciulli', 'screen_name': 'JacquieFran_', 'location': 'Gainesville, FL', 'description': 'Award-winning Digital EP/multimedia journalist @WCJB20 | I also write about #Gators football/basketball on 1stand10 and @SI_AllGators |', 'url': 'https://t.co/hEeyUla8mG', 'entities': {'url': {'urls': [{'url': 'https://t.co/hEeyUla8mG', 'expanded_url': 'https://www.wcjb.com/', 'display_url': 'wcjb.com', 'indices': [0, 23]}]}, 'description': {'urls': []}}, 'protected': False, 'followers_count': 6025, 'friends_count': 995, 'listed_count': 150, 'created_at': 'Tue May 26 21:27:29 +0000 2009', 'favourites_count': 4056, 'utc_offset': None, 'time_zone': None, 'geo_enabled': False, 'verified': False, 'statuses_count': 35615, 'lang': None, 'contributors_enabled': False, 'is_translator': False, 'is_translation_enabled': False, 'profile_background_color': '131516', 'profile_background_image_url': 'http://abs.twimg.com/images/themes/theme14/bg.gif', 'profile_background_image_url_https': 'https://abs.twimg.com/images/themes/theme14/bg.gif', 'profile_background_tile': True, 'profile_image_url': 'http://pbs.twimg.com/profile_images/1297235216826798081/0uK_idiC_normal.jpg', 'profile_image_url_https': 'https://pbs.twimg.com/profile_images/1297235216826798081/0uK_idiC_normal.jpg', 'profile_banner_url': 'https://pbs.twimg.com/profile_banners/42725416/1460668170', 'profile_link_color': '003899', 'profile_sidebar_border_color': 'EEEEEE', 'profile_sidebar_fill_color': 'EFEFEF', 'profile_text_color': '333333', 'profile_use_background_image': True, 'has_extended_profile': True, 'default_profile': False, 'default_profile_image': False, 'following': False, 'follow_request_sent': False, 'notifications': False, 'translator_type': 'none'}, id=42725416, id_str='42725416', name='Jacquie Franciulli', screen_name='JacquieFran_', location='Gainesville, FL', description='Award-winning Digital EP/multimedia journalist @WCJB20 | I also write about #Gators football/basketball on 1stand10 and @SI_AllGators |', url='https://t.co/hEeyUla8mG', entities={'url': {'urls': [{'url': 'https://t.co/hEeyUla8mG', 'expanded_url': 'https://www.wcjb.com/', 'display_url': 'wcjb.com', 'indices': [0, 23]}]}, 'description': {'urls': []}}, protected=False, followers_count=6025, friends_count=995, listed_count=150, created_at=datetime.datetime(2009, 5, 26, 21, 27, 29), favourites_count=4056, utc_offset=None, time_zone=None, geo_enabled=False, verified=False, statuses_count=35615, lang=None, contributors_enabled=False, is_translator=False, is_translation_enabled=False, profile_background_color='131516', profile_background_image_url='http://abs.twimg.com/images/themes/theme14/bg.gif', profile_background_image_url_https='https://abs.twimg.com/images/themes/theme14/bg.gif', profile_background_tile=True, profile_image_url='http://pbs.twimg.com/profile_images/1297235216826798081/0uK_idiC_normal.jpg', profile_image_url_https='https://pbs.twimg.com/profile_images/1297235216826798081/0uK_idiC_normal.jpg', profile_banner_url='https://pbs.twimg.com/profile_banners/42725416/1460668170', profile_link_color='003899', profile_sidebar_border_color='EEEEEE', profile_sidebar_fill_color='EFEFEF', profile_text_color='333333', profile_use_background_image=True, has_extended_profile=True, default_profile=False, default_profile_image=False, following=False, follow_request_sent=False, notifications=False, translator_type='none'), geo=None, coordinates=None, place=None, contributors=None, is_quote_status=False, retweet_count=0, favorite_count=2, favorited=False, retweeted=False, possibly_sensitive=False, lang='en') \n",
      "\n",
      ".....................................\n",
      "\n",
      "Status(_api=<tweepy.api.API object at 0x0000022CE501E888>, _json={'created_at': 'Tue Oct 27 18:13:47 +0000 2020', 'id': 1321153133305888769, 'id_str': '1321153133305888769', 'full_text': '#Gators football adds six more COVID-19 cases in weekly update. \\n\\nIn total 37 total positive for the month of October. \\n\\n https://t.co/HM4R6NDeBC https://t.co/qkgmHrXQhc', 'truncated': False, 'display_text_range': [0, 145], 'entities': {'hashtags': [{'text': 'Gators', 'indices': [0, 7]}], 'symbols': [], 'user_mentions': [], 'urls': [{'url': 'https://t.co/HM4R6NDeBC', 'expanded_url': 'https://www.wcjb.com/2020/10/27/florida-gators-add-six-new-covid-19-cases-in-weekly-update/', 'display_url': 'wcjb.com/2020/10/27/flo…', 'indices': [122, 145]}], 'media': [{'id': 1321153130592161792, 'id_str': '1321153130592161792', 'indices': [146, 169], 'media_url': 'http://pbs.twimg.com/media/ElWtxcLXUAAd33N.jpg', 'media_url_https': 'https://pbs.twimg.com/media/ElWtxcLXUAAd33N.jpg', 'url': 'https://t.co/qkgmHrXQhc', 'display_url': 'pic.twitter.com/qkgmHrXQhc', 'expanded_url': 'https://twitter.com/WCJB20/status/1321153133305888769/photo/1', 'type': 'photo', 'sizes': {'thumb': {'w': 150, 'h': 150, 'resize': 'crop'}, 'small': {'w': 680, 'h': 383, 'resize': 'fit'}, 'large': {'w': 1200, 'h': 675, 'resize': 'fit'}, 'medium': {'w': 1200, 'h': 675, 'resize': 'fit'}}}]}, 'extended_entities': {'media': [{'id': 1321153130592161792, 'id_str': '1321153130592161792', 'indices': [146, 169], 'media_url': 'http://pbs.twimg.com/media/ElWtxcLXUAAd33N.jpg', 'media_url_https': 'https://pbs.twimg.com/media/ElWtxcLXUAAd33N.jpg', 'url': 'https://t.co/qkgmHrXQhc', 'display_url': 'pic.twitter.com/qkgmHrXQhc', 'expanded_url': 'https://twitter.com/WCJB20/status/1321153133305888769/photo/1', 'type': 'photo', 'sizes': {'thumb': {'w': 150, 'h': 150, 'resize': 'crop'}, 'small': {'w': 680, 'h': 383, 'resize': 'fit'}, 'large': {'w': 1200, 'h': 675, 'resize': 'fit'}, 'medium': {'w': 1200, 'h': 675, 'resize': 'fit'}}}]}, 'metadata': {'iso_language_code': 'en', 'result_type': 'recent'}, 'source': '<a href=\"http://www.socialnewsdesk.com\" rel=\"nofollow\">SocialNewsDesk</a>', 'in_reply_to_status_id': None, 'in_reply_to_status_id_str': None, 'in_reply_to_user_id': None, 'in_reply_to_user_id_str': None, 'in_reply_to_screen_name': None, 'user': {'id': 393564568, 'id_str': '393564568', 'name': 'WCJB TV20 News', 'screen_name': 'WCJB20', 'location': 'Gainesville, FL', 'description': 'Your Local Source in North Central Florida | Got a story idea? Email tv20news@wcjb.com', 'url': 'http://t.co/ABnmG84PlC', 'entities': {'url': {'urls': [{'url': 'http://t.co/ABnmG84PlC', 'expanded_url': 'http://www.wcjb.com', 'display_url': 'wcjb.com', 'indices': [0, 22]}]}, 'description': {'urls': []}}, 'protected': False, 'followers_count': 13037, 'friends_count': 137, 'listed_count': 301, 'created_at': 'Tue Oct 18 18:40:52 +0000 2011', 'favourites_count': 343, 'utc_offset': None, 'time_zone': None, 'geo_enabled': True, 'verified': True, 'statuses_count': 39387, 'lang': None, 'contributors_enabled': False, 'is_translator': False, 'is_translation_enabled': False, 'profile_background_color': 'C0DEED', 'profile_background_image_url': 'http://abs.twimg.com/images/themes/theme1/bg.png', 'profile_background_image_url_https': 'https://abs.twimg.com/images/themes/theme1/bg.png', 'profile_background_tile': False, 'profile_image_url': 'http://pbs.twimg.com/profile_images/879182395060224000/TdRyR49i_normal.jpg', 'profile_image_url_https': 'https://pbs.twimg.com/profile_images/879182395060224000/TdRyR49i_normal.jpg', 'profile_banner_url': 'https://pbs.twimg.com/profile_banners/393564568/1585759710', 'profile_link_color': '1DA1F2', 'profile_sidebar_border_color': 'C0DEED', 'profile_sidebar_fill_color': 'DDEEF6', 'profile_text_color': '333333', 'profile_use_background_image': True, 'has_extended_profile': True, 'default_profile': True, 'default_profile_image': False, 'following': False, 'follow_request_sent': False, 'notifications': False, 'translator_type': 'none'}, 'geo': None, 'coordinates': None, 'place': None, 'contributors': None, 'is_quote_status': False, 'retweet_count': 3, 'favorite_count': 1, 'favorited': False, 'retweeted': False, 'possibly_sensitive': False, 'lang': 'en'}, created_at=datetime.datetime(2020, 10, 27, 18, 13, 47), id=1321153133305888769, id_str='1321153133305888769', full_text='#Gators football adds six more COVID-19 cases in weekly update. \\n\\nIn total 37 total positive for the month of October. \\n\\n https://t.co/HM4R6NDeBC https://t.co/qkgmHrXQhc', truncated=False, display_text_range=[0, 145], entities={'hashtags': [{'text': 'Gators', 'indices': [0, 7]}], 'symbols': [], 'user_mentions': [], 'urls': [{'url': 'https://t.co/HM4R6NDeBC', 'expanded_url': 'https://www.wcjb.com/2020/10/27/florida-gators-add-six-new-covid-19-cases-in-weekly-update/', 'display_url': 'wcjb.com/2020/10/27/flo…', 'indices': [122, 145]}], 'media': [{'id': 1321153130592161792, 'id_str': '1321153130592161792', 'indices': [146, 169], 'media_url': 'http://pbs.twimg.com/media/ElWtxcLXUAAd33N.jpg', 'media_url_https': 'https://pbs.twimg.com/media/ElWtxcLXUAAd33N.jpg', 'url': 'https://t.co/qkgmHrXQhc', 'display_url': 'pic.twitter.com/qkgmHrXQhc', 'expanded_url': 'https://twitter.com/WCJB20/status/1321153133305888769/photo/1', 'type': 'photo', 'sizes': {'thumb': {'w': 150, 'h': 150, 'resize': 'crop'}, 'small': {'w': 680, 'h': 383, 'resize': 'fit'}, 'large': {'w': 1200, 'h': 675, 'resize': 'fit'}, 'medium': {'w': 1200, 'h': 675, 'resize': 'fit'}}}]}, extended_entities={'media': [{'id': 1321153130592161792, 'id_str': '1321153130592161792', 'indices': [146, 169], 'media_url': 'http://pbs.twimg.com/media/ElWtxcLXUAAd33N.jpg', 'media_url_https': 'https://pbs.twimg.com/media/ElWtxcLXUAAd33N.jpg', 'url': 'https://t.co/qkgmHrXQhc', 'display_url': 'pic.twitter.com/qkgmHrXQhc', 'expanded_url': 'https://twitter.com/WCJB20/status/1321153133305888769/photo/1', 'type': 'photo', 'sizes': {'thumb': {'w': 150, 'h': 150, 'resize': 'crop'}, 'small': {'w': 680, 'h': 383, 'resize': 'fit'}, 'large': {'w': 1200, 'h': 675, 'resize': 'fit'}, 'medium': {'w': 1200, 'h': 675, 'resize': 'fit'}}}]}, metadata={'iso_language_code': 'en', 'result_type': 'recent'}, source='SocialNewsDesk', source_url='http://www.socialnewsdesk.com', in_reply_to_status_id=None, in_reply_to_status_id_str=None, in_reply_to_user_id=None, in_reply_to_user_id_str=None, in_reply_to_screen_name=None, author=User(_api=<tweepy.api.API object at 0x0000022CE501E888>, _json={'id': 393564568, 'id_str': '393564568', 'name': 'WCJB TV20 News', 'screen_name': 'WCJB20', 'location': 'Gainesville, FL', 'description': 'Your Local Source in North Central Florida | Got a story idea? Email tv20news@wcjb.com', 'url': 'http://t.co/ABnmG84PlC', 'entities': {'url': {'urls': [{'url': 'http://t.co/ABnmG84PlC', 'expanded_url': 'http://www.wcjb.com', 'display_url': 'wcjb.com', 'indices': [0, 22]}]}, 'description': {'urls': []}}, 'protected': False, 'followers_count': 13037, 'friends_count': 137, 'listed_count': 301, 'created_at': 'Tue Oct 18 18:40:52 +0000 2011', 'favourites_count': 343, 'utc_offset': None, 'time_zone': None, 'geo_enabled': True, 'verified': True, 'statuses_count': 39387, 'lang': None, 'contributors_enabled': False, 'is_translator': False, 'is_translation_enabled': False, 'profile_background_color': 'C0DEED', 'profile_background_image_url': 'http://abs.twimg.com/images/themes/theme1/bg.png', 'profile_background_image_url_https': 'https://abs.twimg.com/images/themes/theme1/bg.png', 'profile_background_tile': False, 'profile_image_url': 'http://pbs.twimg.com/profile_images/879182395060224000/TdRyR49i_normal.jpg', 'profile_image_url_https': 'https://pbs.twimg.com/profile_images/879182395060224000/TdRyR49i_normal.jpg', 'profile_banner_url': 'https://pbs.twimg.com/profile_banners/393564568/1585759710', 'profile_link_color': '1DA1F2', 'profile_sidebar_border_color': 'C0DEED', 'profile_sidebar_fill_color': 'DDEEF6', 'profile_text_color': '333333', 'profile_use_background_image': True, 'has_extended_profile': True, 'default_profile': True, 'default_profile_image': False, 'following': False, 'follow_request_sent': False, 'notifications': False, 'translator_type': 'none'}, id=393564568, id_str='393564568', name='WCJB TV20 News', screen_name='WCJB20', location='Gainesville, FL', description='Your Local Source in North Central Florida | Got a story idea? Email tv20news@wcjb.com', url='http://t.co/ABnmG84PlC', entities={'url': {'urls': [{'url': 'http://t.co/ABnmG84PlC', 'expanded_url': 'http://www.wcjb.com', 'display_url': 'wcjb.com', 'indices': [0, 22]}]}, 'description': {'urls': []}}, protected=False, followers_count=13037, friends_count=137, listed_count=301, created_at=datetime.datetime(2011, 10, 18, 18, 40, 52), favourites_count=343, utc_offset=None, time_zone=None, geo_enabled=True, verified=True, statuses_count=39387, lang=None, contributors_enabled=False, is_translator=False, is_translation_enabled=False, profile_background_color='C0DEED', profile_background_image_url='http://abs.twimg.com/images/themes/theme1/bg.png', profile_background_image_url_https='https://abs.twimg.com/images/themes/theme1/bg.png', profile_background_tile=False, profile_image_url='http://pbs.twimg.com/profile_images/879182395060224000/TdRyR49i_normal.jpg', profile_image_url_https='https://pbs.twimg.com/profile_images/879182395060224000/TdRyR49i_normal.jpg', profile_banner_url='https://pbs.twimg.com/profile_banners/393564568/1585759710', profile_link_color='1DA1F2', profile_sidebar_border_color='C0DEED', profile_sidebar_fill_color='DDEEF6', profile_text_color='333333', profile_use_background_image=True, has_extended_profile=True, default_profile=True, default_profile_image=False, following=False, follow_request_sent=False, notifications=False, translator_type='none'), user=User(_api=<tweepy.api.API object at 0x0000022CE501E888>, _json={'id': 393564568, 'id_str': '393564568', 'name': 'WCJB TV20 News', 'screen_name': 'WCJB20', 'location': 'Gainesville, FL', 'description': 'Your Local Source in North Central Florida | Got a story idea? Email tv20news@wcjb.com', 'url': 'http://t.co/ABnmG84PlC', 'entities': {'url': {'urls': [{'url': 'http://t.co/ABnmG84PlC', 'expanded_url': 'http://www.wcjb.com', 'display_url': 'wcjb.com', 'indices': [0, 22]}]}, 'description': {'urls': []}}, 'protected': False, 'followers_count': 13037, 'friends_count': 137, 'listed_count': 301, 'created_at': 'Tue Oct 18 18:40:52 +0000 2011', 'favourites_count': 343, 'utc_offset': None, 'time_zone': None, 'geo_enabled': True, 'verified': True, 'statuses_count': 39387, 'lang': None, 'contributors_enabled': False, 'is_translator': False, 'is_translation_enabled': False, 'profile_background_color': 'C0DEED', 'profile_background_image_url': 'http://abs.twimg.com/images/themes/theme1/bg.png', 'profile_background_image_url_https': 'https://abs.twimg.com/images/themes/theme1/bg.png', 'profile_background_tile': False, 'profile_image_url': 'http://pbs.twimg.com/profile_images/879182395060224000/TdRyR49i_normal.jpg', 'profile_image_url_https': 'https://pbs.twimg.com/profile_images/879182395060224000/TdRyR49i_normal.jpg', 'profile_banner_url': 'https://pbs.twimg.com/profile_banners/393564568/1585759710', 'profile_link_color': '1DA1F2', 'profile_sidebar_border_color': 'C0DEED', 'profile_sidebar_fill_color': 'DDEEF6', 'profile_text_color': '333333', 'profile_use_background_image': True, 'has_extended_profile': True, 'default_profile': True, 'default_profile_image': False, 'following': False, 'follow_request_sent': False, 'notifications': False, 'translator_type': 'none'}, id=393564568, id_str='393564568', name='WCJB TV20 News', screen_name='WCJB20', location='Gainesville, FL', description='Your Local Source in North Central Florida | Got a story idea? Email tv20news@wcjb.com', url='http://t.co/ABnmG84PlC', entities={'url': {'urls': [{'url': 'http://t.co/ABnmG84PlC', 'expanded_url': 'http://www.wcjb.com', 'display_url': 'wcjb.com', 'indices': [0, 22]}]}, 'description': {'urls': []}}, protected=False, followers_count=13037, friends_count=137, listed_count=301, created_at=datetime.datetime(2011, 10, 18, 18, 40, 52), favourites_count=343, utc_offset=None, time_zone=None, geo_enabled=True, verified=True, statuses_count=39387, lang=None, contributors_enabled=False, is_translator=False, is_translation_enabled=False, profile_background_color='C0DEED', profile_background_image_url='http://abs.twimg.com/images/themes/theme1/bg.png', profile_background_image_url_https='https://abs.twimg.com/images/themes/theme1/bg.png', profile_background_tile=False, profile_image_url='http://pbs.twimg.com/profile_images/879182395060224000/TdRyR49i_normal.jpg', profile_image_url_https='https://pbs.twimg.com/profile_images/879182395060224000/TdRyR49i_normal.jpg', profile_banner_url='https://pbs.twimg.com/profile_banners/393564568/1585759710', profile_link_color='1DA1F2', profile_sidebar_border_color='C0DEED', profile_sidebar_fill_color='DDEEF6', profile_text_color='333333', profile_use_background_image=True, has_extended_profile=True, default_profile=True, default_profile_image=False, following=False, follow_request_sent=False, notifications=False, translator_type='none'), geo=None, coordinates=None, place=None, contributors=None, is_quote_status=False, retweet_count=3, favorite_count=1, favorited=False, retweeted=False, possibly_sensitive=False, lang='en') \n",
      "\n",
      ".....................................\n",
      "\n"
     ]
    }
   ],
   "source": [
    "Tweets = api.search( query , count=10 , lang='en' , exclude='retweets' , tweet_mode='extended' )\n",
    "# tweet_mode='extended'\n",
    "# tweet_mode='compat'\n",
    "\n",
    "for tweet in Tweets:\n",
    "    print(tweet,\"\\n\")\n",
    "    print(\".....................................\\n\")"
   ]
  },
  {
   "cell_type": "raw",
   "metadata": {},
   "source": [
    "Get the tweets and some Attributes"
   ]
  },
  {
   "cell_type": "code",
   "execution_count": 71,
   "metadata": {},
   "outputs": [
    {
     "name": "stdout",
     "output_type": "stream",
     "text": [
      "Empty DataFrame\n",
      "Columns: [Tweets, User, User_statuses_count, user_followers, User_location, User_verified, fav_count, rt_count, tweet_date]\n",
      "Index: []\n"
     ]
    }
   ],
   "source": [
    "df = pd.DataFrame(columns = ['Tweets' , 'User' , 'User_statuses_count' , \n",
    "                            'user_followers' , 'User_location' , 'User_verified' ,\n",
    "                            'fav_count' , 'rt_count' , 'tweet_date'] )\n",
    "print(df)\n",
    "# print(df.shape)"
   ]
  },
  {
   "cell_type": "code",
   "execution_count": 72,
   "metadata": {},
   "outputs": [],
   "source": [
    "def stream(data, file_name):\n",
    "    i = 0\n",
    "    for tweet in tweepy.Cursor(api.search, q=data, count=100, lang='en').items():\n",
    "        print(i, end='\\r')\n",
    "        df.loc[i, 'Tweets'] = tweet.text\n",
    "        df.loc[i, 'User'] = tweet.user.name\n",
    "        df.loc[i, 'User_statuses_count'] = tweet.user.statuses_count\n",
    "        df.loc[i, 'user_followers'] = tweet.user.followers_count\n",
    "        df.loc[i, 'User_location'] = tweet.user.location\n",
    "        df.loc[i, 'User_verified'] = tweet.user.verified\n",
    "        df.loc[i, 'fav_count'] = tweet.favorite_count\n",
    "        df.loc[i, 'rt_count'] = tweet.retweet_count\n",
    "        df.loc[i, 'tweet_date'] = tweet.created_at\n",
    "        df.to_excel('{}.xlsx'.format(file_name))\n",
    "        i = i+1\n",
    "        if i == 1000:\n",
    "            break\n",
    "        else:\n",
    "            pass"
   ]
  },
  {
   "cell_type": "code",
   "execution_count": 74,
   "metadata": {},
   "outputs": [
    {
     "name": "stdout",
     "output_type": "stream",
     "text": [
      "66\r"
     ]
    }
   ],
   "source": [
    "stream(data=[\"covid positive cases in karnataka\"] , file_name='covid_tweets')"
   ]
  },
  {
   "cell_type": "code",
   "execution_count": 75,
   "metadata": {},
   "outputs": [
    {
     "data": {
      "text/html": [
       "<div>\n",
       "<style scoped>\n",
       "    .dataframe tbody tr th:only-of-type {\n",
       "        vertical-align: middle;\n",
       "    }\n",
       "\n",
       "    .dataframe tbody tr th {\n",
       "        vertical-align: top;\n",
       "    }\n",
       "\n",
       "    .dataframe thead th {\n",
       "        text-align: right;\n",
       "    }\n",
       "</style>\n",
       "<table border=\"1\" class=\"dataframe\">\n",
       "  <thead>\n",
       "    <tr style=\"text-align: right;\">\n",
       "      <th></th>\n",
       "      <th>Tweets</th>\n",
       "      <th>User</th>\n",
       "      <th>User_statuses_count</th>\n",
       "      <th>user_followers</th>\n",
       "      <th>User_location</th>\n",
       "      <th>User_verified</th>\n",
       "      <th>fav_count</th>\n",
       "      <th>rt_count</th>\n",
       "      <th>tweet_date</th>\n",
       "    </tr>\n",
       "  </thead>\n",
       "  <tbody>\n",
       "    <tr>\n",
       "      <th>0</th>\n",
       "      <td>RT @path2shah: 3014 new cases of #COVID19,deat...</td>\n",
       "      <td>Prashant</td>\n",
       "      <td>1647</td>\n",
       "      <td>243</td>\n",
       "      <td>Why Do You Need To Know?</td>\n",
       "      <td>False</td>\n",
       "      <td>0</td>\n",
       "      <td>1</td>\n",
       "      <td>2020-10-31 13:30:25</td>\n",
       "    </tr>\n",
       "    <tr>\n",
       "      <th>1</th>\n",
       "      <td>3014 new cases of #COVID19,death of 28 positiv...</td>\n",
       "      <td>yasir mushtaq</td>\n",
       "      <td>5402</td>\n",
       "      <td>2542</td>\n",
       "      <td>bangalore</td>\n",
       "      <td>False</td>\n",
       "      <td>5</td>\n",
       "      <td>1</td>\n",
       "      <td>2020-10-31 13:18:55</td>\n",
       "    </tr>\n",
       "    <tr>\n",
       "      <th>2</th>\n",
       "      <td>@datta_arvind In Karnataka, the government has...</td>\n",
       "      <td>Anomalous monkey</td>\n",
       "      <td>19617</td>\n",
       "      <td>403</td>\n",
       "      <td>Bangalore</td>\n",
       "      <td>False</td>\n",
       "      <td>0</td>\n",
       "      <td>0</td>\n",
       "      <td>2020-10-31 01:51:50</td>\n",
       "    </tr>\n",
       "    <tr>\n",
       "      <th>3</th>\n",
       "      <td>RT @Ramkrishna_TNIE: Highlights of covid-19 in...</td>\n",
       "      <td>Lalitha</td>\n",
       "      <td>15245</td>\n",
       "      <td>2336</td>\n",
       "      <td>Bengaluru, India</td>\n",
       "      <td>False</td>\n",
       "      <td>0</td>\n",
       "      <td>3</td>\n",
       "      <td>2020-10-30 20:25:19</td>\n",
       "    </tr>\n",
       "    <tr>\n",
       "      <th>4</th>\n",
       "      <td>RT @Ramkrishna_TNIE: Highlights of covid-19 in...</td>\n",
       "      <td>anirudh simha chintamani rajagopal</td>\n",
       "      <td>8345</td>\n",
       "      <td>652</td>\n",
       "      <td>ABU DHABI,UAE</td>\n",
       "      <td>False</td>\n",
       "      <td>0</td>\n",
       "      <td>3</td>\n",
       "      <td>2020-10-30 17:47:45</td>\n",
       "    </tr>\n",
       "  </tbody>\n",
       "</table>\n",
       "</div>"
      ],
      "text/plain": [
       "                                              Tweets  \\\n",
       "0  RT @path2shah: 3014 new cases of #COVID19,deat...   \n",
       "1  3014 new cases of #COVID19,death of 28 positiv...   \n",
       "2  @datta_arvind In Karnataka, the government has...   \n",
       "3  RT @Ramkrishna_TNIE: Highlights of covid-19 in...   \n",
       "4  RT @Ramkrishna_TNIE: Highlights of covid-19 in...   \n",
       "\n",
       "                                 User User_statuses_count user_followers  \\\n",
       "0                            Prashant                1647            243   \n",
       "1                       yasir mushtaq                5402           2542   \n",
       "2                    Anomalous monkey               19617            403   \n",
       "3                             Lalitha               15245           2336   \n",
       "4  anirudh simha chintamani rajagopal                8345            652   \n",
       "\n",
       "              User_location User_verified fav_count rt_count  \\\n",
       "0  Why Do You Need To Know?         False         0        1   \n",
       "1                bangalore          False         5        1   \n",
       "2                 Bangalore         False         0        0   \n",
       "3          Bengaluru, India         False         0        3   \n",
       "4             ABU DHABI,UAE         False         0        3   \n",
       "\n",
       "            tweet_date  \n",
       "0  2020-10-31 13:30:25  \n",
       "1  2020-10-31 13:18:55  \n",
       "2  2020-10-31 01:51:50  \n",
       "3  2020-10-30 20:25:19  \n",
       "4  2020-10-30 17:47:45  "
      ]
     },
     "execution_count": 75,
     "metadata": {},
     "output_type": "execute_result"
    }
   ],
   "source": [
    "df.head()"
   ]
  },
  {
   "cell_type": "code",
   "execution_count": 76,
   "metadata": {},
   "outputs": [
    {
     "name": "stdout",
     "output_type": "stream",
     "text": [
      "Requirement already satisfied: textblob in c:\\users\\vivek.m\\anaconda3\\new folder\\new folder\\lib\\site-packages (0.15.3)\n",
      "Requirement already satisfied: nltk>=3.1 in c:\\users\\vivek.m\\anaconda3\\new folder\\new folder\\lib\\site-packages (from textblob) (3.4.5)\n",
      "Requirement already satisfied: six in c:\\users\\vivek.m\\anaconda3\\new folder\\new folder\\lib\\site-packages (from nltk>=3.1->textblob) (1.14.0)\n"
     ]
    }
   ],
   "source": [
    "!pip install textblob"
   ]
  },
  {
   "cell_type": "raw",
   "metadata": {},
   "source": [
    "Sentiment(polarity, subjectivity)\n",
    "\n",
    "Polarity score: [-1 , +1]\n",
    "\n",
    "Subjectivity: [0.0 , 1.0] \n",
    "where 0.0 is very Objective and 1.0 is very Subjective."
   ]
  },
  {
   "cell_type": "code",
   "execution_count": 77,
   "metadata": {},
   "outputs": [],
   "source": [
    "from textblob import TextBlob"
   ]
  },
  {
   "cell_type": "code",
   "execution_count": 78,
   "metadata": {},
   "outputs": [],
   "source": [
    "import re\n",
    "def clean_tweet(tweet):\n",
    "    return ' '.join(re.sub('(@[A-Za-z0-9]+)|([^0-9A-Za-z \\t])|(\\w+:\\/\\/\\S+)', ' ', tweet).split())"
   ]
  },
  {
   "cell_type": "code",
   "execution_count": 79,
   "metadata": {},
   "outputs": [],
   "source": [
    "def analyze_sentiment(tweet):\n",
    "    analysis = TextBlob(tweet)\n",
    "    if analysis.sentiment.polarity > 0:\n",
    "        return 'Positive'\n",
    "    elif analysis.sentiment.polarity == 0:\n",
    "        return 'Neutral'\n",
    "    else:\n",
    "        return 'Negative'"
   ]
  },
  {
   "cell_type": "code",
   "execution_count": 80,
   "metadata": {},
   "outputs": [],
   "source": [
    "df['clean_tweet'] = df['Tweets'].apply(lambda x : clean_tweet(x))"
   ]
  },
  {
   "cell_type": "code",
   "execution_count": 81,
   "metadata": {},
   "outputs": [
    {
     "data": {
      "text/html": [
       "<div>\n",
       "<style scoped>\n",
       "    .dataframe tbody tr th:only-of-type {\n",
       "        vertical-align: middle;\n",
       "    }\n",
       "\n",
       "    .dataframe tbody tr th {\n",
       "        vertical-align: top;\n",
       "    }\n",
       "\n",
       "    .dataframe thead th {\n",
       "        text-align: right;\n",
       "    }\n",
       "</style>\n",
       "<table border=\"1\" class=\"dataframe\">\n",
       "  <thead>\n",
       "    <tr style=\"text-align: right;\">\n",
       "      <th></th>\n",
       "      <th>Tweets</th>\n",
       "      <th>User</th>\n",
       "      <th>User_statuses_count</th>\n",
       "      <th>user_followers</th>\n",
       "      <th>User_location</th>\n",
       "      <th>User_verified</th>\n",
       "      <th>fav_count</th>\n",
       "      <th>rt_count</th>\n",
       "      <th>tweet_date</th>\n",
       "      <th>clean_tweet</th>\n",
       "    </tr>\n",
       "  </thead>\n",
       "  <tbody>\n",
       "    <tr>\n",
       "      <th>0</th>\n",
       "      <td>RT @path2shah: 3014 new cases of #COVID19,deat...</td>\n",
       "      <td>Prashant</td>\n",
       "      <td>1647</td>\n",
       "      <td>243</td>\n",
       "      <td>Why Do You Need To Know?</td>\n",
       "      <td>False</td>\n",
       "      <td>0</td>\n",
       "      <td>1</td>\n",
       "      <td>2020-10-31 13:30:25</td>\n",
       "      <td>RT 3014 new cases of COVID19 death of 28 posit...</td>\n",
       "    </tr>\n",
       "    <tr>\n",
       "      <th>1</th>\n",
       "      <td>3014 new cases of #COVID19,death of 28 positiv...</td>\n",
       "      <td>yasir mushtaq</td>\n",
       "      <td>5402</td>\n",
       "      <td>2542</td>\n",
       "      <td>bangalore</td>\n",
       "      <td>False</td>\n",
       "      <td>5</td>\n",
       "      <td>1</td>\n",
       "      <td>2020-10-31 13:18:55</td>\n",
       "      <td>3014 new cases of COVID19 death of 28 positive...</td>\n",
       "    </tr>\n",
       "    <tr>\n",
       "      <th>2</th>\n",
       "      <td>@datta_arvind In Karnataka, the government has...</td>\n",
       "      <td>Anomalous monkey</td>\n",
       "      <td>19617</td>\n",
       "      <td>403</td>\n",
       "      <td>Bangalore</td>\n",
       "      <td>False</td>\n",
       "      <td>0</td>\n",
       "      <td>0</td>\n",
       "      <td>2020-10-31 01:51:50</td>\n",
       "      <td>arvind In Karnataka the government has alleged...</td>\n",
       "    </tr>\n",
       "    <tr>\n",
       "      <th>3</th>\n",
       "      <td>RT @Ramkrishna_TNIE: Highlights of covid-19 in...</td>\n",
       "      <td>Lalitha</td>\n",
       "      <td>15245</td>\n",
       "      <td>2336</td>\n",
       "      <td>Bengaluru, India</td>\n",
       "      <td>False</td>\n",
       "      <td>0</td>\n",
       "      <td>3</td>\n",
       "      <td>2020-10-30 20:25:19</td>\n",
       "      <td>RT TNIE Highlights of covid 19 in Kalayana Kar...</td>\n",
       "    </tr>\n",
       "    <tr>\n",
       "      <th>4</th>\n",
       "      <td>RT @Ramkrishna_TNIE: Highlights of covid-19 in...</td>\n",
       "      <td>anirudh simha chintamani rajagopal</td>\n",
       "      <td>8345</td>\n",
       "      <td>652</td>\n",
       "      <td>ABU DHABI,UAE</td>\n",
       "      <td>False</td>\n",
       "      <td>0</td>\n",
       "      <td>3</td>\n",
       "      <td>2020-10-30 17:47:45</td>\n",
       "      <td>RT TNIE Highlights of covid 19 in Kalayana Kar...</td>\n",
       "    </tr>\n",
       "  </tbody>\n",
       "</table>\n",
       "</div>"
      ],
      "text/plain": [
       "                                              Tweets  \\\n",
       "0  RT @path2shah: 3014 new cases of #COVID19,deat...   \n",
       "1  3014 new cases of #COVID19,death of 28 positiv...   \n",
       "2  @datta_arvind In Karnataka, the government has...   \n",
       "3  RT @Ramkrishna_TNIE: Highlights of covid-19 in...   \n",
       "4  RT @Ramkrishna_TNIE: Highlights of covid-19 in...   \n",
       "\n",
       "                                 User User_statuses_count user_followers  \\\n",
       "0                            Prashant                1647            243   \n",
       "1                       yasir mushtaq                5402           2542   \n",
       "2                    Anomalous monkey               19617            403   \n",
       "3                             Lalitha               15245           2336   \n",
       "4  anirudh simha chintamani rajagopal                8345            652   \n",
       "\n",
       "              User_location User_verified fav_count rt_count  \\\n",
       "0  Why Do You Need To Know?         False         0        1   \n",
       "1                bangalore          False         5        1   \n",
       "2                 Bangalore         False         0        0   \n",
       "3          Bengaluru, India         False         0        3   \n",
       "4             ABU DHABI,UAE         False         0        3   \n",
       "\n",
       "            tweet_date                                        clean_tweet  \n",
       "0  2020-10-31 13:30:25  RT 3014 new cases of COVID19 death of 28 posit...  \n",
       "1  2020-10-31 13:18:55  3014 new cases of COVID19 death of 28 positive...  \n",
       "2  2020-10-31 01:51:50  arvind In Karnataka the government has alleged...  \n",
       "3  2020-10-30 20:25:19  RT TNIE Highlights of covid 19 in Kalayana Kar...  \n",
       "4  2020-10-30 17:47:45  RT TNIE Highlights of covid 19 in Kalayana Kar...  "
      ]
     },
     "execution_count": 81,
     "metadata": {},
     "output_type": "execute_result"
    }
   ],
   "source": [
    "df.head()"
   ]
  },
  {
   "cell_type": "code",
   "execution_count": 82,
   "metadata": {},
   "outputs": [
    {
     "data": {
      "text/html": [
       "<div>\n",
       "<style scoped>\n",
       "    .dataframe tbody tr th:only-of-type {\n",
       "        vertical-align: middle;\n",
       "    }\n",
       "\n",
       "    .dataframe tbody tr th {\n",
       "        vertical-align: top;\n",
       "    }\n",
       "\n",
       "    .dataframe thead th {\n",
       "        text-align: right;\n",
       "    }\n",
       "</style>\n",
       "<table border=\"1\" class=\"dataframe\">\n",
       "  <thead>\n",
       "    <tr style=\"text-align: right;\">\n",
       "      <th></th>\n",
       "      <th>Tweets</th>\n",
       "      <th>User</th>\n",
       "      <th>User_statuses_count</th>\n",
       "      <th>user_followers</th>\n",
       "      <th>User_location</th>\n",
       "      <th>User_verified</th>\n",
       "      <th>fav_count</th>\n",
       "      <th>rt_count</th>\n",
       "      <th>tweet_date</th>\n",
       "      <th>clean_tweet</th>\n",
       "      <th>Sentiment</th>\n",
       "    </tr>\n",
       "  </thead>\n",
       "  <tbody>\n",
       "    <tr>\n",
       "      <th>0</th>\n",
       "      <td>RT @path2shah: 3014 new cases of #COVID19,deat...</td>\n",
       "      <td>Prashant</td>\n",
       "      <td>1647</td>\n",
       "      <td>243</td>\n",
       "      <td>Why Do You Need To Know?</td>\n",
       "      <td>False</td>\n",
       "      <td>0</td>\n",
       "      <td>1</td>\n",
       "      <td>2020-10-31 13:30:25</td>\n",
       "      <td>RT 3014 new cases of COVID19 death of 28 posit...</td>\n",
       "      <td>Positive</td>\n",
       "    </tr>\n",
       "    <tr>\n",
       "      <th>1</th>\n",
       "      <td>3014 new cases of #COVID19,death of 28 positiv...</td>\n",
       "      <td>yasir mushtaq</td>\n",
       "      <td>5402</td>\n",
       "      <td>2542</td>\n",
       "      <td>bangalore</td>\n",
       "      <td>False</td>\n",
       "      <td>5</td>\n",
       "      <td>1</td>\n",
       "      <td>2020-10-31 13:18:55</td>\n",
       "      <td>3014 new cases of COVID19 death of 28 positive...</td>\n",
       "      <td>Positive</td>\n",
       "    </tr>\n",
       "    <tr>\n",
       "      <th>2</th>\n",
       "      <td>@datta_arvind In Karnataka, the government has...</td>\n",
       "      <td>Anomalous monkey</td>\n",
       "      <td>19617</td>\n",
       "      <td>403</td>\n",
       "      <td>Bangalore</td>\n",
       "      <td>False</td>\n",
       "      <td>0</td>\n",
       "      <td>0</td>\n",
       "      <td>2020-10-31 01:51:50</td>\n",
       "      <td>arvind In Karnataka the government has alleged...</td>\n",
       "      <td>Positive</td>\n",
       "    </tr>\n",
       "    <tr>\n",
       "      <th>3</th>\n",
       "      <td>RT @Ramkrishna_TNIE: Highlights of covid-19 in...</td>\n",
       "      <td>Lalitha</td>\n",
       "      <td>15245</td>\n",
       "      <td>2336</td>\n",
       "      <td>Bengaluru, India</td>\n",
       "      <td>False</td>\n",
       "      <td>0</td>\n",
       "      <td>3</td>\n",
       "      <td>2020-10-30 20:25:19</td>\n",
       "      <td>RT TNIE Highlights of covid 19 in Kalayana Kar...</td>\n",
       "      <td>Positive</td>\n",
       "    </tr>\n",
       "    <tr>\n",
       "      <th>4</th>\n",
       "      <td>RT @Ramkrishna_TNIE: Highlights of covid-19 in...</td>\n",
       "      <td>anirudh simha chintamani rajagopal</td>\n",
       "      <td>8345</td>\n",
       "      <td>652</td>\n",
       "      <td>ABU DHABI,UAE</td>\n",
       "      <td>False</td>\n",
       "      <td>0</td>\n",
       "      <td>3</td>\n",
       "      <td>2020-10-30 17:47:45</td>\n",
       "      <td>RT TNIE Highlights of covid 19 in Kalayana Kar...</td>\n",
       "      <td>Positive</td>\n",
       "    </tr>\n",
       "  </tbody>\n",
       "</table>\n",
       "</div>"
      ],
      "text/plain": [
       "                                              Tweets  \\\n",
       "0  RT @path2shah: 3014 new cases of #COVID19,deat...   \n",
       "1  3014 new cases of #COVID19,death of 28 positiv...   \n",
       "2  @datta_arvind In Karnataka, the government has...   \n",
       "3  RT @Ramkrishna_TNIE: Highlights of covid-19 in...   \n",
       "4  RT @Ramkrishna_TNIE: Highlights of covid-19 in...   \n",
       "\n",
       "                                 User User_statuses_count user_followers  \\\n",
       "0                            Prashant                1647            243   \n",
       "1                       yasir mushtaq                5402           2542   \n",
       "2                    Anomalous monkey               19617            403   \n",
       "3                             Lalitha               15245           2336   \n",
       "4  anirudh simha chintamani rajagopal                8345            652   \n",
       "\n",
       "              User_location User_verified fav_count rt_count  \\\n",
       "0  Why Do You Need To Know?         False         0        1   \n",
       "1                bangalore          False         5        1   \n",
       "2                 Bangalore         False         0        0   \n",
       "3          Bengaluru, India         False         0        3   \n",
       "4             ABU DHABI,UAE         False         0        3   \n",
       "\n",
       "            tweet_date                                        clean_tweet  \\\n",
       "0  2020-10-31 13:30:25  RT 3014 new cases of COVID19 death of 28 posit...   \n",
       "1  2020-10-31 13:18:55  3014 new cases of COVID19 death of 28 positive...   \n",
       "2  2020-10-31 01:51:50  arvind In Karnataka the government has alleged...   \n",
       "3  2020-10-30 20:25:19  RT TNIE Highlights of covid 19 in Kalayana Kar...   \n",
       "4  2020-10-30 17:47:45  RT TNIE Highlights of covid 19 in Kalayana Kar...   \n",
       "\n",
       "  Sentiment  \n",
       "0  Positive  \n",
       "1  Positive  \n",
       "2  Positive  \n",
       "3  Positive  \n",
       "4  Positive  "
      ]
     },
     "execution_count": 82,
     "metadata": {},
     "output_type": "execute_result"
    }
   ],
   "source": [
    "df['Sentiment'] = df['clean_tweet'].apply(lambda x : analyze_sentiment(x) )\n",
    "df.head()"
   ]
  },
  {
   "cell_type": "code",
   "execution_count": 83,
   "metadata": {},
   "outputs": [
    {
     "name": "stdout",
     "output_type": "stream",
     "text": [
      "Original tweet:\n",
      " 3014 new cases of #COVID19,death of 28 positive patients &amp; 7468 discharges hv been reported in Karnataka.Out of 301… https://t.co/Ps1JtxPuWQ\n",
      "\n",
      "Clean tweet:\n",
      " 3014 new cases of COVID19 death of 28 positive patients amp 7468 discharges hv been reported in Karnataka Out of 301\n",
      "\n",
      "Sentiment of the tweet:\n",
      " Positive\n"
     ]
    }
   ],
   "source": [
    "n = 1\n",
    "print(\"Original tweet:\\n\",df['Tweets'][n])\n",
    "print()\n",
    "print(\"Clean tweet:\\n\",df['clean_tweet'][n])\n",
    "print()\n",
    "print(\"Sentiment of the tweet:\\n\",df['Sentiment'][n])"
   ]
  },
  {
   "cell_type": "code",
   "execution_count": 84,
   "metadata": {},
   "outputs": [
    {
     "name": "stdout",
     "output_type": "stream",
     "text": [
      "Original tweet:\n",
      " COVID-19 in Karnataka #22Oct\n",
      "22th time 5,000+ (5,778)\n",
      "2nd time 13,000+ discharge (13550)\n",
      "First time after 23th cons… https://t.co/rQnXkZILKr\n",
      "\n",
      "Clean tweet:\n",
      " COVID 19 in Karnataka 22Oct 22th time 5 000 5 778 2nd time 13 000 discharge 13550 First time after 23th cons\n",
      "\n",
      "Sentiment of the tweet:\n",
      " Positive\n"
     ]
    }
   ],
   "source": [
    "n = 20\n",
    "print(\"Original tweet:\\n\",df['Tweets'][n])\n",
    "print()\n",
    "print(\"Clean tweet:\\n\",df['clean_tweet'][n])\n",
    "print()\n",
    "print(\"Sentiment of the tweet:\\n\",df['Sentiment'][n])"
   ]
  },
  {
   "cell_type": "code",
   "execution_count": 85,
   "metadata": {},
   "outputs": [
    {
     "name": "stdout",
     "output_type": "stream",
     "text": [
      "Original tweet:\n",
      " RT @XpressBengaluru: A day after parts of Bengaluru witnessed heavy flooding, @CMofKarnataka visited those places and announced Rs 25K comp…\n",
      "\n",
      "Clean tweet:\n",
      " RT A day after parts of Bengaluru witnessed heavy flooding visited those places and announced Rs 25K comp\n",
      "\n",
      "Sentiment of the tweet:\n",
      " Negative\n"
     ]
    }
   ],
   "source": [
    "n = 50\n",
    "print(\"Original tweet:\\n\",df['Tweets'][n])\n",
    "print()\n",
    "print(\"Clean tweet:\\n\",df['clean_tweet'][n])\n",
    "print()\n",
    "print(\"Sentiment of the tweet:\\n\",df['Sentiment'][n])"
   ]
  },
  {
   "cell_type": "code",
   "execution_count": 86,
   "metadata": {},
   "outputs": [
    {
     "data": {
      "text/plain": [
       "46"
      ]
     },
     "execution_count": 86,
     "metadata": {},
     "output_type": "execute_result"
    }
   ],
   "source": [
    "df[df.Sentiment == 'Positive'].shape[0]"
   ]
  },
  {
   "cell_type": "code",
   "execution_count": 87,
   "metadata": {},
   "outputs": [
    {
     "data": {
      "text/plain": [
       "2"
      ]
     },
     "execution_count": 87,
     "metadata": {},
     "output_type": "execute_result"
    }
   ],
   "source": [
    "df[df.Sentiment == 'Neutral'].shape[0]"
   ]
  },
  {
   "cell_type": "code",
   "execution_count": 88,
   "metadata": {},
   "outputs": [
    {
     "data": {
      "text/plain": [
       "19"
      ]
     },
     "execution_count": 88,
     "metadata": {},
     "output_type": "execute_result"
    }
   ],
   "source": [
    "df[df.Sentiment == 'Negative'].shape[0]"
   ]
  }
 ],
 "metadata": {
  "kernelspec": {
   "display_name": "Python 3",
   "language": "python",
   "name": "python3"
  },
  "language_info": {
   "codemirror_mode": {
    "name": "ipython",
    "version": 3
   },
   "file_extension": ".py",
   "mimetype": "text/x-python",
   "name": "python",
   "nbconvert_exporter": "python",
   "pygments_lexer": "ipython3",
   "version": "3.7.6"
  }
 },
 "nbformat": 4,
 "nbformat_minor": 4
}
