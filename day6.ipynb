{
 "cells": [
  {
   "cell_type": "markdown",
   "metadata": {},
   "source": [
    "\n",
    "# Assuming that we have some email addresses in the \"username@companyname.com\" format, please write program to print the company name of a given email address. Both user names and company names are composed of letters only.\n",
    "\n",
    "Input Format: The first line of the input contains an email address.\n",
    "\n",
    "Output Format: Print the company name in single line.\n",
    "\n",
    "Example;\n",
    "\n",
    "Input: john@google.com\n",
    "\n",
    "Output: google\n"
   ]
  },
  {
   "cell_type": "code",
   "execution_count": 1,
   "metadata": {},
   "outputs": [
    {
     "name": "stdout",
     "output_type": "stream",
     "text": [
      "Enter your Mail address:medidayeswanth@gmail.com\n",
      "Company Name is:  gmail\n"
     ]
    }
   ],
   "source": [
    "import re \n",
    "\n",
    "def com(email):\n",
    "    second_part = email.rsplit('@', 1)[1]\n",
    "    company_name= second_part.split('.', 1)[0]\n",
    "    print(\"Company Name is: \",company_name)\n",
    "    \n",
    "mail = input(\"Enter your Mail address:\")\n",
    "com(mail)"
   ]
  },
  {
   "cell_type": "markdown",
   "metadata": {},
   "source": [
    "# Write a program that accepts a comma-separated sequence of words as input and prints the words in a comma separated sequence after sorting them alphabetically.\n",
    "\n",
    "Input Format: The first line of input contains words separated by the comma.\n",
    "\n",
    "Output Format: Print the sorted words separated by the comma.\n",
    "\n",
    "Example: Input: without,hello,bag,world\n",
    "\n",
    "Output: bag,hello,without,world"
   ]
  },
  {
   "cell_type": "code",
   "execution_count": 3,
   "metadata": {},
   "outputs": [
    {
     "name": "stdout",
     "output_type": "stream",
     "text": [
      "enter data to sort separated by comma python,java,ai,m,lu\n",
      "Sorted data are : ai java lu m python\n"
     ]
    }
   ],
   "source": [
    "words=[x for x in input(\"enter data to sort separated by comma \").split(',')]\n",
    "words.sort()\n",
    "print (\"Sorted data are :\",' '.join(words))\n"
   ]
  },
  {
   "cell_type": "markdown",
   "metadata": {},
   "source": [
    "# 4"
   ]
  },
  {
   "cell_type": "code",
   "execution_count": 4,
   "metadata": {},
   "outputs": [
    {
     "name": "stdout",
     "output_type": "stream",
     "text": [
      "4 4 8 2 2 2 2 5 2 2 52 2 \n",
      "1 3 6 7 9 10 11 12 13 14 15 16 17 18 19 20 21 22 23 24 25 26 27 28 29 30 31 32 33 34 35 36 37 38 39 40 41 42 43 44 45 46 47 48 49 50 51\n"
     ]
    }
   ],
   "source": [
    "nums = set([int(i) for i in input().split()])\n",
    "full = set([i for i in range(1, max(nums)+1)])\n",
    "print(*(nums ^ full))"
   ]
  },
  {
   "cell_type": "markdown",
   "metadata": {},
   "source": [
    "# 5"
   ]
  },
  {
   "cell_type": "code",
   "execution_count": 5,
   "metadata": {},
   "outputs": [
    {
     "name": "stdout",
     "output_type": "stream",
     "text": [
      "54 54 54 546 64 46 64435\n",
      "54 546 64 46 64435\n"
     ]
    }
   ],
   "source": [
    "\n",
    "nums = [int(i) for i in input().split()]\n",
    "print(*sorted(set(nums), key = nums.index))"
   ]
  },
  {
   "cell_type": "code",
   "execution_count": null,
   "metadata": {},
   "outputs": [],
   "source": []
  }
 ],
 "metadata": {
  "kernelspec": {
   "display_name": "Python 3",
   "language": "python",
   "name": "python3"
  },
  "language_info": {
   "codemirror_mode": {
    "name": "ipython",
    "version": 3
   },
   "file_extension": ".py",
   "mimetype": "text/x-python",
   "name": "python",
   "nbconvert_exporter": "python",
   "pygments_lexer": "ipython3",
   "version": "3.7.6"
  }
 },
 "nbformat": 4,
 "nbformat_minor": 4
}
