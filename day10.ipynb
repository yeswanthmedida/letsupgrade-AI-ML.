{
 "cells": [
  {
   "cell_type": "markdown",
   "metadata": {},
   "source": [
    "# assignment10"
   ]
  },
  {
   "cell_type": "raw",
   "metadata": {},
   "source": [
    "FORMULATE 10 HYPOTHESIS BASED ON ATTRITION CASE STUDY GIVEN BY SIR:\n",
    "\n",
    "(A) VARIABLES CONSIDERED FOR HYPOTHESIS:-\n",
    "\n",
    "(1)DISTANCE FROM HOME (2)MONTHLY INCOME (3)NUMBER OF COMPANIES WORKED (4)PERCENTAGE HIKE IN SALARY (5)YEARS AT COMPANY (6)AGE (7)JOB TIME (8)YEARS WITH CURRENT MANAGER (9)YEAR SINCE LAST PROMOTED (10)WORK EXPERIENCE\n",
    "\n",
    "(B) HYPOTHESIS:- (H1) DISTANCE FROM HOME AFFECTS ATTRITION (H2) MONTHLY INCOME OF EMPLOYEES AFFECTS ATTRITION (H3) TOTAL WORK EXPERIENCE OF EMPLOYEES AFFECTS ATTRITION (H4) SALARY HIKE OF EMPLOYEES AFFECTS ATTRITION (H5) EMPLOYEES YEARS OF WORK EXPERIENCE WITH THE COMPANY AFFECTS ATTRITION (H6) AGE OF EMPLOYEES AFFECTS ATTRITION (H7) WORKING HOURS OF EMPLOYEES AFFECTS ATTRITION (H8) EMPLOYEES YEARS WITH CURRENT MANAGER AFFECTS ATTRITION (H9) YEAR SINCE LAST PROMOTED OF EMPLOYEES AFFECTS ATTRITION (H10) TOTAL WORK EXPERIENCE OF EMPLOYEES AFFECTS ATTRITION\n",
    "\n",
    "(C) TESTING HYPOTHESIS2 H(2):-\n",
    "\n",
    "(H2) MONTHLY INCOME OF EMPLOYEES AFFECTS ATTRITION\n",
    "\n",
    "H0=54000(IQR){2 TAIL TEST};STANDARD DEVIATION(FOUND OUT)=47068 SO PERFORMING Z TEST;NO: OF DATA =474; CORRECTION FACTOR=0.05(ASSUME) DEGREE OF FREEDOM=474 -20=454 Zstat=(65000-54000)/(47068/SQRT(474))=5.088 Ttable value=1.98 Tcalculated = 5.088 so 5.088 lie out range -1.98 to 1.98 showing our hypothesis is false. H2 is false. inference: MONTHLY INCOME DOES NOT AFFECT ATTRITION."
   ]
  }
 ],
 "metadata": {
  "kernelspec": {
   "display_name": "Python 3",
   "language": "python",
   "name": "python3"
  },
  "language_info": {
   "codemirror_mode": {
    "name": "ipython",
    "version": 3
   },
   "file_extension": ".py",
   "mimetype": "text/x-python",
   "name": "python",
   "nbconvert_exporter": "python",
   "pygments_lexer": "ipython3",
   "version": "3.7.6"
  }
 },
 "nbformat": 4,
 "nbformat_minor": 4
}
